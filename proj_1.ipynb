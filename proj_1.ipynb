{
 "cells": [
  {
   "cell_type": "code",
   "execution_count": 1,
   "id": "9e03512a",
   "metadata": {},
   "outputs": [],
   "source": [
    "from collections import defaultdict, deque\n",
    "import numpy as np\n",
    "import pandas as pd"
   ]
  },
  {
   "cell_type": "code",
   "execution_count": 2,
   "id": "7e28dc15",
   "metadata": {},
   "outputs": [],
   "source": [
    "nodes_list = np.array([[ 1,  2], [2 , 3 ], [3 , 4 ], [4 , 5 ], [5 , 1 ],\n",
    "                       [ 6,  7], [ 7,  8], [8 , 9 ], [9 , 10], [10, 11],\n",
    "                       [11, 12], [12, 13], [13, 14], [14, 15], [15, 6 ],\n",
    "                       [16, 17], [17, 18], [18, 19], [19, 20], [20, 16],\n",
    "                       [15, 16], [7 , 17], [9 , 18], [11, 19], [13, 20],\n",
    "                       [ 1,  8], [2 , 10], [3 , 12], [4 , 14], [5 , 6 ]])"
   ]
  },
  {
   "cell_type": "code",
   "execution_count": 8,
   "id": "aa51a223",
   "metadata": {},
   "outputs": [],
   "source": [
    "def build_graph(p=0.5):    \n",
    "    edges = (nodes_list.T * (np.random.rand(30) < [p]).astype(int)).T\n",
    "    graph = defaultdict(set)\n",
    "    for edge in edges:\n",
    "        a, b = edge[0], edge[1]\n",
    "        graph[a].add(b)\n",
    "        graph[b].add(a)\n",
    "    return graph"
   ]
  },
  {
   "cell_type": "code",
   "execution_count": 9,
   "id": "1a7e5ba7",
   "metadata": {},
   "outputs": [],
   "source": [
    "def check_way(res_graph, a, b):\n",
    "    que_for_check = deque(res_graph[a])\n",
    "    res_set = {a}\n",
    "    checked_node = {a}\n",
    "    while que_for_check and b not in res_set:\n",
    "        elem = que_for_check.popleft() \n",
    "        if elem not in checked_node: \n",
    "            res_set = res_set | res_graph[elem]\n",
    "            que_for_check.extend(list(res_graph[elem]))\n",
    "            checked_node = checked_node | {elem}\n",
    "    return b in res_set"
   ]
  },
  {
   "cell_type": "code",
   "execution_count": 10,
   "id": "1e3b789d",
   "metadata": {},
   "outputs": [],
   "source": [
    "def count_res(p=0.3, N=1000, a=1, b=13, c=17):\n",
    "    positive = 0\n",
    "    for _ in range(N):\n",
    "        res_graph = build_graph(p)\n",
    "        if  check_way(res_graph, a, b) and check_way(res_graph, a, c):\n",
    "            positive += 1\n",
    "    return positive / N"
   ]
  },
  {
   "cell_type": "code",
   "execution_count": 11,
   "id": "31d9502a",
   "metadata": {},
   "outputs": [
    {
     "data": {
      "text/html": [
       "<div>\n",
       "<style scoped>\n",
       "    .dataframe tbody tr th:only-of-type {\n",
       "        vertical-align: middle;\n",
       "    }\n",
       "\n",
       "    .dataframe tbody tr th {\n",
       "        vertical-align: top;\n",
       "    }\n",
       "\n",
       "    .dataframe thead th {\n",
       "        text-align: right;\n",
       "    }\n",
       "</style>\n",
       "<table border=\"1\" class=\"dataframe\">\n",
       "  <thead>\n",
       "    <tr style=\"text-align: right;\">\n",
       "      <th></th>\n",
       "      <th>1000</th>\n",
       "      <th>10000</th>\n",
       "    </tr>\n",
       "  </thead>\n",
       "  <tbody>\n",
       "    <tr>\n",
       "      <th>0.10</th>\n",
       "      <td>0.000</td>\n",
       "      <td>0.0000</td>\n",
       "    </tr>\n",
       "    <tr>\n",
       "      <th>0.20</th>\n",
       "      <td>0.000</td>\n",
       "      <td>0.0005</td>\n",
       "    </tr>\n",
       "    <tr>\n",
       "      <th>0.30</th>\n",
       "      <td>0.006</td>\n",
       "      <td>0.0089</td>\n",
       "    </tr>\n",
       "    <tr>\n",
       "      <th>0.40</th>\n",
       "      <td>0.044</td>\n",
       "      <td>0.0493</td>\n",
       "    </tr>\n",
       "    <tr>\n",
       "      <th>0.50</th>\n",
       "      <td>0.187</td>\n",
       "      <td>0.1985</td>\n",
       "    </tr>\n",
       "    <tr>\n",
       "      <th>0.60</th>\n",
       "      <td>0.505</td>\n",
       "      <td>0.4705</td>\n",
       "    </tr>\n",
       "    <tr>\n",
       "      <th>0.70</th>\n",
       "      <td>0.791</td>\n",
       "      <td>0.7732</td>\n",
       "    </tr>\n",
       "    <tr>\n",
       "      <th>0.80</th>\n",
       "      <td>0.947</td>\n",
       "      <td>0.9494</td>\n",
       "    </tr>\n",
       "    <tr>\n",
       "      <th>0.90</th>\n",
       "      <td>0.996</td>\n",
       "      <td>0.9958</td>\n",
       "    </tr>\n",
       "    <tr>\n",
       "      <th>0.95</th>\n",
       "      <td>0.999</td>\n",
       "      <td>0.9995</td>\n",
       "    </tr>\n",
       "    <tr>\n",
       "      <th>0.99</th>\n",
       "      <td>1.000</td>\n",
       "      <td>1.0000</td>\n",
       "    </tr>\n",
       "  </tbody>\n",
       "</table>\n",
       "</div>"
      ],
      "text/plain": [
       "      1000    10000\n",
       "0.10  0.000  0.0000\n",
       "0.20  0.000  0.0005\n",
       "0.30  0.006  0.0089\n",
       "0.40  0.044  0.0493\n",
       "0.50  0.187  0.1985\n",
       "0.60  0.505  0.4705\n",
       "0.70  0.791  0.7732\n",
       "0.80  0.947  0.9494\n",
       "0.90  0.996  0.9958\n",
       "0.95  0.999  0.9995\n",
       "0.99  1.000  1.0000"
      ]
     },
     "execution_count": 11,
     "metadata": {},
     "output_type": "execute_result"
    }
   ],
   "source": [
    "dir_to_save = r'C:\\Users\\RedmiBook\\Documents\\SCE\\third_1\\Ann\\proj_1.csv'\n",
    "n_list = [1000, 10000]\n",
    "p_list = [0.1, 0.2, 0.3, 0.4, 0.5, 0.6, 0.7, 0.8, 0.9, 0.95, 0.99]\n",
    "res_arr = np.zeros([len(p_list), len(n_list)])\n",
    "for i_n, n in enumerate(n_list):\n",
    "    for i_p, p in enumerate(p_list):\n",
    "        res_arr[i_p][i_n] = count_res(p, n)\n",
    "df = pd.DataFrame(res_arr, index=p_list, columns=n_list)\n",
    "df.to_csv(dir_to_save)\n",
    "df"
   ]
  },
  {
   "cell_type": "code",
   "execution_count": null,
   "id": "8d2f02fb",
   "metadata": {},
   "outputs": [],
   "source": []
  }
 ],
 "metadata": {
  "kernelspec": {
   "display_name": "Python 3 (ipykernel)",
   "language": "python",
   "name": "python3"
  },
  "language_info": {
   "codemirror_mode": {
    "name": "ipython",
    "version": 3
   },
   "file_extension": ".py",
   "mimetype": "text/x-python",
   "name": "python",
   "nbconvert_exporter": "python",
   "pygments_lexer": "ipython3",
   "version": "3.9.7"
  }
 },
 "nbformat": 4,
 "nbformat_minor": 5
}
