{
 "cells": [
  {
   "cell_type": "code",
   "execution_count": 1,
   "id": "f52418d9",
   "metadata": {
    "scrolled": false
   },
   "outputs": [],
   "source": [
    "import re\n",
    "import nltk\n",
    "import numpy as np\n",
    "import matplotlib.pyplot as plt\n",
    "import scipy\n",
    "import scipy.sparse as sp\n",
    "import pandas as pd\n",
    "import spacy\n",
    "\n",
    "from nltk.tokenize import word_tokenize\n",
    "from tqdm.notebook import tqdm\n",
    "from os import listdir\n",
    "from os.path import isfile, join\n",
    "from rouge_score import rouge_scorer\n",
    "from rouge import Rouge \n",
    "\n",
    "rouge = Rouge()\n",
    "nlp = spacy.load(\"en_core_web_sm\")"
   ]
  },
  {
   "cell_type": "code",
   "execution_count": 48,
   "id": "aa78c8e1",
   "metadata": {},
   "outputs": [
    {
     "data": {
      "text/plain": [
       "Score(precision=0.75, recall=0.6666666666666666, fmeasure=0.7058823529411765)"
      ]
     },
     "execution_count": 48,
     "metadata": {},
     "output_type": "execute_result"
    }
   ],
   "source": [
    "from rouge_score import rouge_scorer\n",
    "\n",
    "scorer = rouge_scorer.RougeScorer(['rouge1', 'rouge2', 'rougeL'], use_stemmer=True)\n",
    "scores = scorer.score('The quick brown fox jumps over the lazy dog',\n",
    "                      'The quick brown dog jumps on the log.')\n",
    "scores['rouge1']#[1]"
   ]
  },
  {
   "cell_type": "markdown",
   "id": "4f1aa66c",
   "metadata": {},
   "source": [
    "Import files"
   ]
  },
  {
   "cell_type": "code",
   "execution_count": 12,
   "id": "56323aee",
   "metadata": {},
   "outputs": [],
   "source": [
    "val_preproc_dir = r\"C:\\Users\\RedmiBook\\Documents\\SCE\\proj\\datasets\\2021val_annual_reports_prepr-20220901T133401Z-001\\2021val_annual_reports_prepr\"\n",
    "name_of_files = [f for f in listdir(val_preproc_dir) \n",
    "             if isfile(join(val_preproc_dir, f))]\n",
    "list_of_files = []\n",
    "for file_name in name_of_files:\n",
    "    list_of_files.append(open(val_preproc_dir + \"\\\\\" + file_name, \"r\").read())"
   ]
  },
  {
   "cell_type": "markdown",
   "id": "6f4d3a8f",
   "metadata": {},
   "source": [
    "Preprocess data"
   ]
  },
  {
   "cell_type": "code",
   "execution_count": 3,
   "id": "924abd08",
   "metadata": {},
   "outputs": [],
   "source": [
    "def delete_nums(txt_splited):\n",
    "    res_finish = []\n",
    "    for text in tqdm(txt_splited):\n",
    "        res_txt = []\n",
    "        for paragraph in text:\n",
    "            res_par = ''\n",
    "            for i in re.split('\\.| ',paragraph):\n",
    "                if i.isalpha():\n",
    "                    res_par += i.lower() + ' '\n",
    "            res_txt.append(res_par)\n",
    "        res_finish.append(res_txt)\n",
    "    return res_finish"
   ]
  },
  {
   "cell_type": "code",
   "execution_count": 4,
   "id": "6b06c581",
   "metadata": {
    "scrolled": false
   },
   "outputs": [
    {
     "data": {
      "application/vnd.jupyter.widget-view+json": {
       "model_id": "e2cecff3ee8243e3a4db16494182ad4d",
       "version_major": 2,
       "version_minor": 0
      },
      "text/plain": [
       "  0%|          | 0/363 [00:00<?, ?it/s]"
      ]
     },
     "metadata": {},
     "output_type": "display_data"
    }
   ],
   "source": [
    "txt_splited = [file_txt.split('\\n') for file_txt in list_of_files]\n",
    "txt_str_div_par = delete_nums(txt_splited)"
   ]
  },
  {
   "cell_type": "code",
   "execution_count": 5,
   "id": "bcc2514c",
   "metadata": {},
   "outputs": [],
   "source": [
    "def make_vocab(txt_str_div_par):\n",
    "    txt_str = txt_str_div_par.copy()\n",
    "    for i, txt in enumerate(txt_str_div_par):\n",
    "        txt_str[i] = ''.join(txt)\n",
    "\n",
    "    vocab_list = []\n",
    "    for i, txt in enumerate(txt_str):\n",
    "        vocab = list(re.split(' \\n| ', txt))\n",
    "\n",
    "        if '' in set(vocab):\n",
    "            vocab.remove(\"\")\n",
    "        vocab_list.append(list(set(vocab)))\n",
    "    return vocab_list, txt_str"
   ]
  },
  {
   "cell_type": "code",
   "execution_count": 7,
   "id": "e8429d7f",
   "metadata": {},
   "outputs": [],
   "source": [
    "def list_of_words_max_len(txt_str):\n",
    "    list_of_words = [txt.split(' ') for txt in txt_str]\n",
    "    for i in range(len(list_of_words)):\n",
    "        list_of_words[i] = [w for w in list_of_words[i] if w]\n",
    "\n",
    "    len_words = [len(v) for v in list_of_words]\n",
    "    max_len_words = max(len_words)\n",
    "    return list_of_words, len_words, max_len_words"
   ]
  },
  {
   "cell_type": "markdown",
   "id": "71cfa5cc",
   "metadata": {},
   "source": [
    "make functions for calculating results in sparse matrix for time and memory optimization"
   ]
  },
  {
   "cell_type": "code",
   "execution_count": 8,
   "id": "f3b7afdc",
   "metadata": {},
   "outputs": [],
   "source": [
    "def sparse_triangle_max(max_len_words, sig=25):    \n",
    "    S = sp.dok_array((max_len_words + 2 * sig, max_len_words + 2 * sig), dtype=np.float32)\n",
    "    res_f = [(1 - np.abs(i - sig) / sig) for i in range(1, sig * 2)]\n",
    "    for i in tqdm(range(sig, sig + max_len_words), total=max_len_words):\n",
    "        S[i, i-sig+1:i+sig] = res_f\n",
    "    return S"
   ]
  },
  {
   "cell_type": "code",
   "execution_count": 9,
   "id": "84efd34d",
   "metadata": {
    "scrolled": true
   },
   "outputs": [],
   "source": [
    "def sparse_triangle_crop(S, size, sig=25):\n",
    "    return S[sig:sig+size, sig:sig+size]"
   ]
  },
  {
   "cell_type": "code",
   "execution_count": 10,
   "id": "ef51ccdc",
   "metadata": {},
   "outputs": [],
   "source": [
    "def sparse_vocab(text, vocab):    \n",
    "    S = sp.dok_array((len(vocab), len(text)), dtype=np.float32)\n",
    "    v_to_i = {v:i for i, v in enumerate(vocab)}\n",
    "    for j, w in enumerate(text):\n",
    "        S[v_to_i[w], j] = 1\n",
    "    \n",
    "    return S"
   ]
  },
  {
   "cell_type": "markdown",
   "id": "698eca92",
   "metadata": {},
   "source": [
    "calculate matix"
   ]
  },
  {
   "cell_type": "code",
   "execution_count": 11,
   "id": "663b29bf",
   "metadata": {},
   "outputs": [],
   "source": [
    "def matix_txt(S, text, vocab):\n",
    "    len_txt = len(text)\n",
    "\n",
    "    f_res = sparse_triangle_crop(S, len_txt) # l x l\n",
    "    c_vocab = sparse_vocab(text, vocab) # w x l\n",
    "\n",
    "    num = c_vocab.tocsr() @ f_res.tocsc() # w x l @ l x l = w x l\n",
    "    denum = (c_vocab.tocsr() @ f_res.tocsc()).tocsc().sum(axis=0) # w x l @ l x l = w x l sum axis0 = 1xl\n",
    "    \n",
    "    denum = sp.csc_matrix(1 / denum)\n",
    "\n",
    "    return num * denum"
   ]
  },
  {
   "cell_type": "markdown",
   "id": "198e523f",
   "metadata": {},
   "source": [
    "calculate propogation matix"
   ]
  },
  {
   "cell_type": "code",
   "execution_count": 12,
   "id": "135ed0bd",
   "metadata": {},
   "outputs": [],
   "source": [
    "def calculate_save_npz(list_of_words, S, vocab_list, name_of_files, dir_to_save):\n",
    "    for i in tqdm(range(len(list_of_words))):\n",
    "        matix_item = matix_txt(S, list_of_words[i], vocab_list[i])    \n",
    "        sp.save_npz(dir_to_save + name_of_files[i][:-4], matix_item)"
   ]
  },
  {
   "cell_type": "markdown",
   "id": "55afe99b",
   "metadata": {},
   "source": [
    "download calculated matix and sum scores of the words per paragraph"
   ]
  },
  {
   "cell_type": "code",
   "execution_count": 13,
   "id": "59b6ff26",
   "metadata": {},
   "outputs": [],
   "source": [
    "def calculate_sum_of_art(txt_str_div_art, sum_arr_word, v_to_i, dict_weight, weights=[1, 2]):\n",
    "    article_weight, len_per_art = [], []\n",
    "    heavy_words = []\n",
    "    for article in txt_str_div_art:\n",
    "        split = [j for j in article.split(' ') if j]\n",
    "        len_art = len(split)\n",
    "        if len_art != 0:\n",
    "            par_split = 0\n",
    "            word_heavy = 0\n",
    "            for word in split:\n",
    "                w = weights[1] if word in dict_weight else weights[0]\n",
    "                word_heavy += w // max(weights)\n",
    "                par_split += sum_arr_word[v_to_i[word]] * w\n",
    "            heavy_words.append(word_heavy / len_art)\n",
    "            article_weight.append(float(par_split) / len_art)\n",
    "            len_per_art.append(len_art)\n",
    "        else:\n",
    "            article_weight.append(0)\n",
    "            len_per_art.append(0)\n",
    "            heavy_words.append(0)\n",
    "            \n",
    "    return pd.DataFrame(list(zip(article_weight, len_per_art, heavy_words)), columns=['sum', 'len', 'wght'])"
   ]
  },
  {
   "cell_type": "code",
   "execution_count": null,
   "id": "fae91a7a",
   "metadata": {},
   "outputs": [],
   "source": [
    "calculate_sum_of_art(txt_str_div_art, sum_arr_word, v_to_i, [], weights=[1, 1])"
   ]
  },
  {
   "cell_type": "code",
   "execution_count": 11,
   "id": "ae47e86e",
   "metadata": {},
   "outputs": [],
   "source": [
    "def top_art(res):\n",
    "    sorted_res = res.sort_values(by=['sum'], ascending=False)\n",
    "    sorted_res['index'] = sorted_res.index\n",
    "\n",
    "    i, len_txt = 0, 0\n",
    "    num_art = []\n",
    "    while i < len(sorted_res) and len_txt < 1000:\n",
    "        len_txt += sorted_res.iloc(0)[i]['len']\n",
    "        num_art.append(int(sorted_res.iloc(0)[i]['index'])) \n",
    "        i += 1\n",
    "    num_art.sort()\n",
    "    return num_art, int(len_txt)"
   ]
  },
  {
   "cell_type": "code",
   "execution_count": 23,
   "id": "067528b3",
   "metadata": {},
   "outputs": [],
   "source": [
    "def download_npz(name_of_files, vocab_list, txt_str_div_par, dir_to_upload, weight):\n",
    "    art_sum = []\n",
    "    for i_t, text_name in tqdm(enumerate(name_of_files), total=len(name_of_files)):\n",
    "\n",
    "        #calculate best articles in txt based on matrix\n",
    "        sum_arr_word = sp.load_npz(dir_to_upload + text_name[:-4] + \".npz\").sum(axis=1)\n",
    "        v_to_i = {v:i for i, v in enumerate(vocab_list[i_t])}\n",
    "        art_sum.append(calculate_sum_of_art(txt_str_div_par[i_t], sum_arr_word, v_to_i, [], weight))\n",
    "    return art_sum"
   ]
  },
  {
   "cell_type": "code",
   "execution_count": 13,
   "id": "584d9352",
   "metadata": {},
   "outputs": [],
   "source": [
    "def read_files(val_dir):\n",
    "    name_of_files = [f for f in listdir(val_dir) \n",
    "                 if isfile(join(val_dir, f))]\n",
    "    list_of_files = []\n",
    "    for file_name in name_of_files:        \n",
    "        list_of_files.append(open(val_dir + \"\\\\\" + file_name, \"r\", encoding='utf-8').read())\n",
    "    return name_of_files, list_of_files"
   ]
  },
  {
   "cell_type": "code",
   "execution_count": 6,
   "id": "f2f465f9",
   "metadata": {},
   "outputs": [],
   "source": [
    "def calc_rouge_mean(name_of_files, list_of_files, name_of_files_gold=name_of_files_gold, list_of_files_gold=list_of_files_gold, suf=4, cut=True):\n",
    "    j = 0\n",
    "    df_scores = pd.DataFrame(columns = [\"rouge-1, r\", \"rouge-1, p\", \"rouge-1, f\", \n",
    "                                        \"rouge-2, r\", \"rouge-2, p\", \"rouge-2, f\", \n",
    "                                        \"rouge-l, r\", \"rouge-l, p\", \"rouge-l, f\"])\n",
    "\n",
    "    for i in tqdm(range(len(name_of_files)), total=len(name_of_files)):\n",
    "        scores = []\n",
    "\n",
    "        while j < len(name_of_files_gold) and name_of_files_gold[j][:-6] != name_of_files[i][:-suf]:\n",
    "            j += 1\n",
    "        while j < len(name_of_files_gold) and name_of_files_gold[j][:-6] == name_of_files[i][:-suf]:\n",
    "            if cut == True:\n",
    "                list_of_files[i] = ' '.join(list_of_files[i].split(' ')[:1000])            \n",
    "            scores.append(rouge.get_scores(list_of_files[i], list_of_files_gold[j])[0])\n",
    "            j += 1\n",
    "#         print(scores)\n",
    "        if scores != []:\n",
    "            res_arr = np.zeros((len(scores), 9))\n",
    "            for i in range(len(scores)):\n",
    "                lst_i = list(scores[i].items())\n",
    "                \n",
    "                res_arr[i] = [list(lst_i[0][1].items())[0][1],\n",
    "                              list(lst_i[0][1].items())[1][1],\n",
    "                              list(lst_i[0][1].items())[2][1], \n",
    "                              list(lst_i[1][1].items())[0][1],\n",
    "                              list(lst_i[1][1].items())[1][1],\n",
    "                              list(lst_i[1][1].items())[2][1],\n",
    "                              list(lst_i[2][1].items())[0][1],\n",
    "                              list(lst_i[2][1].items())[1][1],\n",
    "                              list(lst_i[2][1].items())[2][1]]\n",
    "#                 print(res_arr[i])\n",
    "            df_scores.loc[len(df_scores)] = res_arr.mean(axis=0)\n",
    "        \n",
    "    return df_scores"
   ]
  },
  {
   "cell_type": "code",
   "execution_count": 7,
   "id": "4bf7e016",
   "metadata": {},
   "outputs": [],
   "source": [
    "vocab_list, txt_str = make_vocab(txt_str_div_par)"
   ]
  },
  {
   "cell_type": "code",
   "execution_count": 9,
   "id": "26b4eeec",
   "metadata": {},
   "outputs": [],
   "source": [
    "list_of_words, len_words, max_len_words = list_of_words_max_len(txt_str)"
   ]
  },
  {
   "cell_type": "code",
   "execution_count": null,
   "id": "33f6facb",
   "metadata": {
    "scrolled": false
   },
   "outputs": [],
   "source": [
    "S = sparse_triangle_max(max_len_words)"
   ]
  },
  {
   "cell_type": "code",
   "execution_count": 20,
   "id": "33e8f285",
   "metadata": {
    "scrolled": true
   },
   "outputs": [
    {
     "data": {
      "application/vnd.jupyter.widget-view+json": {
       "model_id": "",
       "version_major": 2,
       "version_minor": 0
      },
      "text/plain": [
       "  0%|          | 0/363 [00:00<?, ?it/s]"
      ]
     },
     "metadata": {},
     "output_type": "display_data"
    }
   ],
   "source": [
    "calculate_save_npz(list_of_words, S, vocab_list, name_of_files, dir_to_save=r\"C:\\Users\\RedmiBook\\Documents\\SCE\\proj\\datasets\\calculated\\full PLM windows\\PLM matrix\\\\\")"
   ]
  },
  {
   "cell_type": "code",
   "execution_count": 26,
   "id": "044eac30",
   "metadata": {},
   "outputs": [
    {
     "data": {
      "application/vnd.jupyter.widget-view+json": {
       "model_id": "",
       "version_major": 2,
       "version_minor": 0
      },
      "text/plain": [
       "  0%|          | 0/363 [00:00<?, ?it/s]"
      ]
     },
     "metadata": {},
     "output_type": "display_data"
    }
   ],
   "source": [
    "art_sum = (download_npz(name_of_files, vocab_list, txt_str_div_par, dir_to_upload=r\"C:\\Users\\RedmiBook\\Documents\\SCE\\proj\\datasets\\calculated\\full PLM windows\\PLM matrix\\\\\", weight=[1, 1]))"
   ]
  },
  {
   "cell_type": "code",
   "execution_count": 10,
   "id": "0a7f8a89",
   "metadata": {
    "scrolled": true
   },
   "outputs": [],
   "source": [
    "def download_npz_word(name_of_files, dir_to_upload):\n",
    "    sum_arr_word, v_to_i = [], []\n",
    "    for i_t, text_name in tqdm(enumerate(name_of_files), total=len(name_of_files)):\n",
    "        sum_arr_word.append(sp.load_npz(dir_to_upload + text_name[:-4] + \".npz\").sum(axis=1))\n",
    "        v_to_i.append({v:i for i, v in enumerate(vocab_list[i_t])})\n",
    "#         art_sum.append(calculate_sum_of_art(txt_str_div_par[i_t], sum_arr_word, v_to_i, [], weight))\n",
    "    return sum_arr_word, v_to_i"
   ]
  },
  {
   "cell_type": "code",
   "execution_count": 11,
   "id": "0b986c09",
   "metadata": {},
   "outputs": [
    {
     "data": {
      "application/vnd.jupyter.widget-view+json": {
       "model_id": "3213c8445ca24f9191b7a27d20aaf53b",
       "version_major": 2,
       "version_minor": 0
      },
      "text/plain": [
       "  0%|          | 0/363 [00:00<?, ?it/s]"
      ]
     },
     "metadata": {},
     "output_type": "display_data"
    }
   ],
   "source": [
    "word_plm, v_to_i = download_npz_word(name_of_files, dir_to_upload=r\"C:\\Users\\RedmiBook\\Documents\\SCE\\proj\\datasets\\calculated\\full PLM windows\\PLM matrix\\\\\")"
   ]
  },
  {
   "cell_type": "code",
   "execution_count": 12,
   "id": "3706935d",
   "metadata": {},
   "outputs": [],
   "source": [
    "def plm_list_by_words(txt_str, v_to_i, word_plm):\n",
    "    plm_list = []\n",
    "    for i_t, text in tqdm(enumerate(txt_str), total=len(txt_str)):\n",
    "        new_m = []\n",
    "        for word in text.split():\n",
    "            new_m.append(word_plm[i_t][v_to_i[i_t][word]][0, 0])\n",
    "        plm_list.append(new_m)\n",
    "    return plm_list"
   ]
  },
  {
   "cell_type": "code",
   "execution_count": 13,
   "id": "e63d2ec9",
   "metadata": {
    "scrolled": true
   },
   "outputs": [
    {
     "data": {
      "application/vnd.jupyter.widget-view+json": {
       "model_id": "3391650780fb4ea0b34d4f85b5b62b7d",
       "version_major": 2,
       "version_minor": 0
      },
      "text/plain": [
       "  0%|          | 0/363 [00:00<?, ?it/s]"
      ]
     },
     "metadata": {},
     "output_type": "display_data"
    }
   ],
   "source": [
    "plm_list = plm_list_by_words(txt_str, v_to_i, word_plm)"
   ]
  },
  {
   "cell_type": "code",
   "execution_count": 14,
   "id": "483d29e3",
   "metadata": {},
   "outputs": [],
   "source": [
    "gold_dir = r\"C:\\Users\\RedmiBook\\Documents\\SCE\\proj\\datasets\\fns2020_dataset_clean\\validation\\gold_summaries\"\n",
    "name_of_files_gold = [f for f in listdir(gold_dir) \n",
    "             if isfile(join(gold_dir, f))]\n",
    "list_of_files_gold = []\n",
    "for file_name in name_of_files_gold:\n",
    "    list_of_files_gold.append(open(gold_dir + \"\\\\\" + file_name, \"r\", encoding='utf-8').read())"
   ]
  },
  {
   "cell_type": "code",
   "execution_count": 15,
   "id": "5691c905",
   "metadata": {},
   "outputs": [],
   "source": [
    "def preproc(txt_splited):\n",
    "    res_finish, res_glue = [], []\n",
    "    for text in tqdm(txt_splited):\n",
    "        res_txt = []\n",
    "        for paragraph in text:\n",
    "            res_par = ''\n",
    "            for i in re.split('\\.| ',paragraph):\n",
    "                if i.isalpha():\n",
    "                    res_par += i.lower() + ' '\n",
    "            res_txt.append(res_par)\n",
    "        res_glue.append(''.join(res_txt))\n",
    "        res_finish.append(res_txt)\n",
    "    return res_finish, res_glue"
   ]
  },
  {
   "cell_type": "code",
   "execution_count": 16,
   "id": "16c6c344",
   "metadata": {},
   "outputs": [
    {
     "data": {
      "application/vnd.jupyter.widget-view+json": {
       "model_id": "8cb8777dac2a4a7db9963aebdb51656e",
       "version_major": 2,
       "version_minor": 0
      },
      "text/plain": [
       "  0%|          | 0/1250 [00:00<?, ?it/s]"
      ]
     },
     "metadata": {},
     "output_type": "display_data"
    }
   ],
   "source": [
    "txt_splited_gold = [file_txt.split('\\n') for file_txt in list_of_files_gold]\n",
    "txt_str_div_par_gold, txt_str_gold = preproc(txt_splited_gold)"
   ]
  },
  {
   "cell_type": "code",
   "execution_count": 17,
   "id": "9eebd5e1",
   "metadata": {},
   "outputs": [],
   "source": [
    "from collections import defaultdict"
   ]
  },
  {
   "cell_type": "code",
   "execution_count": 18,
   "id": "ccaf9f41",
   "metadata": {},
   "outputs": [],
   "source": [
    "val_gold = defaultdict(list)\n",
    "for i, v in enumerate(name_of_files_gold):\n",
    "    val_gold[v[:-6]].append(i)\n",
    "# val_gold"
   ]
  },
  {
   "cell_type": "code",
   "execution_count": 49,
   "id": "cc93ea48",
   "metadata": {},
   "outputs": [],
   "source": [
    "def calc_rouge(txt, txt_gold):\n",
    "    lst_i = scorer.score(txt, txt_gold)\n",
    "                \n",
    "    res_arr = np.array([\n",
    "                      lst_i['rouge1'][0],\n",
    "                      lst_i['rouge1'][1],\n",
    "                      lst_i['rouge1'][2],\n",
    "                      lst_i['rouge2'][0],\n",
    "                      lst_i['rouge2'][1],            \n",
    "                      lst_i['rouge2'][2],\n",
    "                      lst_i['rougeL'][0],\n",
    "                      lst_i['rougeL'][1],            \n",
    "                      lst_i['rougeL'][2]])\n",
    "    return res_arr"
   ]
  },
  {
   "cell_type": "code",
   "execution_count": 70,
   "id": "cdd1e037",
   "metadata": {},
   "outputs": [],
   "source": [
    "def split_window(text, plm_text, name_file, window=2000, step=1000):\n",
    "    text_split = text.split()\n",
    "    val_gold_txt = val_gold[name_file]\n",
    "    rouge_list, plm_list = [], []\n",
    "    for i in range(window, len(text_split), step):\n",
    "        rouge_mean = 0\n",
    "        for i_w in val_gold_txt:\n",
    "            rouge_mean += calc_rouge(' '.join(text_split[i - window:i]), txt_str_gold[i_w])\n",
    "        rouge_mean = rouge_mean / len(val_gold_txt)\n",
    "        rouge_list.append(rouge_mean)\n",
    "        plm_list.append(sum(plm_text[i - window:i]) / window)\n",
    "    return rouge_list, plm_list"
   ]
  },
  {
   "cell_type": "code",
   "execution_count": 74,
   "id": "8a39f3ee",
   "metadata": {},
   "outputs": [
    {
     "data": {
      "application/vnd.jupyter.widget-view+json": {
       "model_id": "4b491a395c864b25bd4eca0ad22ec674",
       "version_major": 2,
       "version_minor": 0
      },
      "text/plain": [
       "  0%|          | 0/363 [00:00<?, ?it/s]"
      ]
     },
     "metadata": {},
     "output_type": "display_data"
    }
   ],
   "source": [
    "for i in tqdm(range(len(txt_str))):\n",
    "    rouge, plm = split_window(txt_str[i], plm_list[i], name_of_files[i][:-4])    \n",
    "    df_plm = pd.DataFrame(plm, columns=['PLM'])\n",
    "    df_rouge = pd.DataFrame(rouge, columns=['rouge1, p', 'rouge1, r', 'rouge1, f',\n",
    "                                          'rouge2, p', 'rouge2, r', 'rouge2, f',\n",
    "                                          'rougeL, p', 'rougeL, r', 'rougeL, f'])\n",
    "    pd.concat([df_rouge, df_plm], axis=1).to_csv(r'C:\\Users\\RedmiBook\\Documents\\SCE\\proj\\datasets\\calculated\\full PLM windows\\window res\\\\' + name_of_files[i][:-4])    "
   ]
  },
  {
   "cell_type": "code",
   "execution_count": 3,
   "id": "e5c4990e",
   "metadata": {},
   "outputs": [],
   "source": [
    "tmp_pd = pd.read_csv(r'C:\\Users\\RedmiBook\\Documents\\SCE\\proj\\datasets\\calculated\\full PLM windows\\window res\\31620')"
   ]
  },
  {
   "cell_type": "code",
   "execution_count": 9,
   "id": "92b10962",
   "metadata": {},
   "outputs": [],
   "source": [
    "def count_corr(dir_file):\n",
    "    tmp_pd = pd.read_csv(r'C:\\Users\\RedmiBook\\Documents\\SCE\\proj\\datasets\\calculated\\full PLM windows\\window res\\\\' + dir_file)\n",
    "    list_corr = []\n",
    "    for i in range(len(tmp_pd.columns) - 1):\n",
    "        list_corr.append(tmp_pd[tmp_pd.columns[i]].corr(tmp_pd['PLM']))\n",
    "    return np.array(list_corr)"
   ]
  },
  {
   "cell_type": "code",
   "execution_count": null,
   "id": "391bd5dc",
   "metadata": {},
   "outputs": [],
   "source": []
  },
  {
   "cell_type": "code",
   "execution_count": 13,
   "id": "8394edae",
   "metadata": {},
   "outputs": [],
   "source": [
    "result_arr = np.zeros((len(name_of_files), 10))\n",
    "for i, file in enumerate(name_of_files):\n",
    "    result_arr[i] = count_corr(file[:-4])"
   ]
  },
  {
   "cell_type": "code",
   "execution_count": 25,
   "id": "b178c25d",
   "metadata": {
    "scrolled": true
   },
   "outputs": [],
   "source": [
    "res_pd_corr = pd.concat([pd.DataFrame(result_arr), pd.DataFrame(np.mean(result_arr, axis=0), columns=['mean']).T])"
   ]
  },
  {
   "cell_type": "code",
   "execution_count": 27,
   "id": "b8686d82",
   "metadata": {
    "scrolled": false
   },
   "outputs": [
    {
     "data": {
      "text/html": [
       "<div>\n",
       "<style scoped>\n",
       "    .dataframe tbody tr th:only-of-type {\n",
       "        vertical-align: middle;\n",
       "    }\n",
       "\n",
       "    .dataframe tbody tr th {\n",
       "        vertical-align: top;\n",
       "    }\n",
       "\n",
       "    .dataframe thead th {\n",
       "        text-align: right;\n",
       "    }\n",
       "</style>\n",
       "<table border=\"1\" class=\"dataframe\">\n",
       "  <thead>\n",
       "    <tr style=\"text-align: right;\">\n",
       "      <th></th>\n",
       "      <th>posision</th>\n",
       "      <th>rouge1, p</th>\n",
       "      <th>rouge1, r</th>\n",
       "      <th>rouge1, f</th>\n",
       "      <th>rouge2, p</th>\n",
       "      <th>rouge2, r</th>\n",
       "      <th>rouge2, f</th>\n",
       "      <th>rougeL, p</th>\n",
       "      <th>rougeL, r</th>\n",
       "      <th>rougeL, f</th>\n",
       "    </tr>\n",
       "  </thead>\n",
       "  <tbody>\n",
       "    <tr>\n",
       "      <th>0</th>\n",
       "      <td>-0.058245</td>\n",
       "      <td>0.404122</td>\n",
       "      <td>0.249870</td>\n",
       "      <td>0.272862</td>\n",
       "      <td>0.364778</td>\n",
       "      <td>0.218013</td>\n",
       "      <td>0.242593</td>\n",
       "      <td>0.274335</td>\n",
       "      <td>0.163927</td>\n",
       "      <td>0.184348</td>\n",
       "    </tr>\n",
       "    <tr>\n",
       "      <th>1</th>\n",
       "      <td>0.297874</td>\n",
       "      <td>-0.094433</td>\n",
       "      <td>-0.149403</td>\n",
       "      <td>-0.146226</td>\n",
       "      <td>-0.084381</td>\n",
       "      <td>-0.105480</td>\n",
       "      <td>-0.104279</td>\n",
       "      <td>-0.050137</td>\n",
       "      <td>-0.092536</td>\n",
       "      <td>-0.081782</td>\n",
       "    </tr>\n",
       "    <tr>\n",
       "      <th>2</th>\n",
       "      <td>-0.218776</td>\n",
       "      <td>0.117063</td>\n",
       "      <td>0.171678</td>\n",
       "      <td>0.168217</td>\n",
       "      <td>0.210090</td>\n",
       "      <td>0.260744</td>\n",
       "      <td>0.254393</td>\n",
       "      <td>0.077065</td>\n",
       "      <td>0.121835</td>\n",
       "      <td>0.116789</td>\n",
       "    </tr>\n",
       "    <tr>\n",
       "      <th>3</th>\n",
       "      <td>0.337930</td>\n",
       "      <td>-0.475399</td>\n",
       "      <td>-0.412067</td>\n",
       "      <td>-0.433481</td>\n",
       "      <td>-0.410098</td>\n",
       "      <td>-0.329355</td>\n",
       "      <td>-0.361609</td>\n",
       "      <td>-0.332046</td>\n",
       "      <td>-0.217169</td>\n",
       "      <td>-0.255217</td>\n",
       "    </tr>\n",
       "    <tr>\n",
       "      <th>4</th>\n",
       "      <td>-0.565934</td>\n",
       "      <td>0.457319</td>\n",
       "      <td>0.513286</td>\n",
       "      <td>0.486862</td>\n",
       "      <td>0.233573</td>\n",
       "      <td>0.389503</td>\n",
       "      <td>0.323710</td>\n",
       "      <td>0.220533</td>\n",
       "      <td>0.395830</td>\n",
       "      <td>0.327878</td>\n",
       "    </tr>\n",
       "  </tbody>\n",
       "</table>\n",
       "</div>"
      ],
      "text/plain": [
       "   posision  rouge1, p  rouge1, r  rouge1, f  rouge2, p  rouge2, r  rouge2, f  \\\n",
       "0 -0.058245   0.404122   0.249870   0.272862   0.364778   0.218013   0.242593   \n",
       "1  0.297874  -0.094433  -0.149403  -0.146226  -0.084381  -0.105480  -0.104279   \n",
       "2 -0.218776   0.117063   0.171678   0.168217   0.210090   0.260744   0.254393   \n",
       "3  0.337930  -0.475399  -0.412067  -0.433481  -0.410098  -0.329355  -0.361609   \n",
       "4 -0.565934   0.457319   0.513286   0.486862   0.233573   0.389503   0.323710   \n",
       "\n",
       "   rougeL, p  rougeL, r  rougeL, f  \n",
       "0   0.274335   0.163927   0.184348  \n",
       "1  -0.050137  -0.092536  -0.081782  \n",
       "2   0.077065   0.121835   0.116789  \n",
       "3  -0.332046  -0.217169  -0.255217  \n",
       "4   0.220533   0.395830   0.327878  "
      ]
     },
     "execution_count": 27,
     "metadata": {},
     "output_type": "execute_result"
    }
   ],
   "source": [
    "res_pd_corr = res_pd_corr.rename(columns={0:'posision', \n",
    "                 1:'rouge1, p', 2:'rouge1, r', 3:'rouge1, f',\n",
    "                 4:'rouge2, p', 5:'rouge2, r', 6:'rouge2, f',\n",
    "                 7:'rougeL, p', 8:'rougeL, r', 9:'rougeL, f'})"
   ]
  },
  {
   "cell_type": "code",
   "execution_count": 29,
   "id": "375338cd",
   "metadata": {
    "scrolled": true
   },
   "outputs": [],
   "source": [
    "res_pd_corr.to_csv(r'C:\\Users\\RedmiBook\\Documents\\SCE\\proj\\datasets\\calculated\\full PLM windows\\result_corr_windows.csv')"
   ]
  },
  {
   "cell_type": "code",
   "execution_count": 38,
   "id": "91dc033e",
   "metadata": {},
   "outputs": [
    {
     "data": {
      "image/png": "[encoded data removed]",
      "text/plain": [
       "<Figure size 432x288 with 1 Axes>"
      ]
     },
     "metadata": {
      "needs_background": "light"
     },
     "output_type": "display_data"
    }
   ],
   "source": [
    "plt.hist(res_pd_corr.iloc(0)[:-1].iloc(1)[0], bins=30);"
   ]
  },
  {
   "cell_type": "code",
   "execution_count": 42,
   "id": "1604d075",
   "metadata": {},
   "outputs": [
    {
     "data": {
      "image/png": "[encoded data removed]",
      "text/plain": [
       "<Figure size 1080x360 with 4 Axes>"
      ]
     },
     "metadata": {
      "needs_background": "light"
     },
     "output_type": "display_data"
    }
   ],
   "source": [
    "fig, axs = plt.subplots(1, 4, figsize=(15, 5))\n",
    "axs[0].hist(res_pd_corr.iloc(0)[:-1].iloc(1)[0], bins=15);\n",
    "# axs[0].legend()\n",
    "axs[0].set_title('window')\n",
    "axs[1].hist(res_pd_corr.iloc(0)[:-1].iloc(1)[1:4], label=['r', 'p', 'f1']);\n",
    "axs[1].legend()\n",
    "axs[1].set_title('rouge 1')\n",
    "axs[2].hist(res_pd_corr.iloc(0)[:-1].iloc(1)[4:7], label=['r', 'p', 'f1']);\n",
    "axs[2].legend()\n",
    "axs[2].set_title('rouge 2')\n",
    "axs[3].hist(res_pd_corr.iloc(0)[:-1].iloc(1)[7:], label=['r', 'p', 'f1']);\n",
    "axs[3].legend()\n",
    "axs[3].set_title('rouge L');"
   ]
  },
  {
   "cell_type": "code",
   "execution_count": null,
   "id": "b3651054",
   "metadata": {},
   "outputs": [],
   "source": []
  }
 ],
 "metadata": {
  "kernelspec": {
   "display_name": "Python 3 (ipykernel)",
   "language": "python",
   "name": "python3"
  },
  "language_info": {
   "codemirror_mode": {
    "name": "ipython",
    "version": 3
   },
   "file_extension": ".py",
   "mimetype": "text/x-python",
   "name": "python",
   "nbconvert_exporter": "python",
   "pygments_lexer": "ipython3",
   "version": "3.9.7"
  }
 },
 "nbformat": 4,
 "nbformat_minor": 5
}
