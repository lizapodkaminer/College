{
 "cells": [
  {
   "cell_type": "code",
   "execution_count": 35,
   "id": "f52418d9",
   "metadata": {
    "scrolled": false
   },
   "outputs": [],
   "source": [
    "import re\n",
    "import nltk\n",
    "import numpy as np\n",
    "import matplotlib.pyplot as plt\n",
    "import scipy\n",
    "import scipy.sparse as sp\n",
    "import pandas as pd\n",
    "import spacy\n",
    "\n",
    "from nltk.tokenize import word_tokenize\n",
    "from tqdm.notebook import tqdm\n",
    "from os import listdir\n",
    "from os.path import isfile, join\n",
    "from rouge_score import rouge_scorer\n",
    "from rouge import Rouge \n",
    "\n",
    "rouge = Rouge()\n",
    "nlp = spacy.load(\"en_core_web_sm\")"
   ]
  },
  {
   "cell_type": "markdown",
   "id": "4f1aa66c",
   "metadata": {},
   "source": [
    "Import files"
   ]
  },
  {
   "cell_type": "code",
   "execution_count": 36,
   "id": "56323aee",
   "metadata": {},
   "outputs": [],
   "source": [
    "val_preproc_dir = r\"C:\\Users\\RedmiBook\\Documents\\SCE\\proj\\datasets\\2021val_annual_reports_prepr-20220901T133401Z-001\\2021val_annual_reports_prepr\"\n",
    "name_of_files = [f for f in listdir(val_preproc_dir) \n",
    "             if isfile(join(val_preproc_dir, f))]\n",
    "list_of_files = []\n",
    "for file_name in name_of_files:\n",
    "    list_of_files.append(open(val_preproc_dir + \"\\\\\" + file_name, \"r\").read())"
   ]
  },
  {
   "cell_type": "code",
   "execution_count": 37,
   "id": "ec0b35c5",
   "metadata": {},
   "outputs": [],
   "source": [
    "half_perc, perc = 0.05, 0.1\n",
    "\n",
    "list_of_files_1 = [file[:int(len(file) * half_perc)] for file in list_of_files]\n",
    "list_of_files_2 = [file[int(len(file) * half_perc):int(len(file) * perc)] for file in list_of_files]"
   ]
  },
  {
   "cell_type": "markdown",
   "id": "6f4d3a8f",
   "metadata": {},
   "source": [
    "Preprocess data"
   ]
  },
  {
   "cell_type": "code",
   "execution_count": 38,
   "id": "924abd08",
   "metadata": {},
   "outputs": [],
   "source": [
    "def delete_nums(txt_splited):\n",
    "    res_finish = []\n",
    "    for text in tqdm(txt_splited):\n",
    "        res_txt = []\n",
    "        for paragraph in text:\n",
    "            res_par = ''\n",
    "            for i in re.split('\\.| ',paragraph):\n",
    "                if i.isalpha():\n",
    "                    res_par += i.lower() + ' '\n",
    "            res_txt.append(res_par)\n",
    "        res_finish.append(res_txt)\n",
    "    return res_finish"
   ]
  },
  {
   "cell_type": "code",
   "execution_count": 39,
   "id": "6b06c581",
   "metadata": {
    "scrolled": false
   },
   "outputs": [
    {
     "data": {
      "application/vnd.jupyter.widget-view+json": {
       "model_id": "2f17120082564a418464104970903d9d",
       "version_major": 2,
       "version_minor": 0
      },
      "text/plain": [
       "  0%|          | 0/363 [00:00<?, ?it/s]"
      ]
     },
     "metadata": {},
     "output_type": "display_data"
    },
    {
     "data": {
      "application/vnd.jupyter.widget-view+json": {
       "model_id": "a0c2ebdbb8b64d0981206a9255fbbb40",
       "version_major": 2,
       "version_minor": 0
      },
      "text/plain": [
       "  0%|          | 0/363 [00:00<?, ?it/s]"
      ]
     },
     "metadata": {},
     "output_type": "display_data"
    }
   ],
   "source": [
    "txt_splited_1 = [file_txt.split('\\n') for file_txt in list_of_files_1]\n",
    "txt_str_div_par_1 = delete_nums(txt_splited_1)\n",
    "\n",
    "txt_splited_2 = [file_txt.split('\\n') for file_txt in list_of_files_2]\n",
    "txt_str_div_par_2 = delete_nums(txt_splited_2)"
   ]
  },
  {
   "cell_type": "code",
   "execution_count": 40,
   "id": "bcc2514c",
   "metadata": {},
   "outputs": [],
   "source": [
    "def make_vocab(txt_str_div_par):\n",
    "    txt_str = txt_str_div_par.copy()\n",
    "    for i, txt in enumerate(txt_str_div_par):\n",
    "        txt_str[i] = ''.join(txt)\n",
    "\n",
    "    vocab_list = []\n",
    "    for i, txt in enumerate(txt_str):\n",
    "        vocab = list(re.split(' \\n| ', txt))\n",
    "\n",
    "        if '' in set(vocab):\n",
    "            vocab.remove(\"\")\n",
    "        vocab_list.append(list(set(vocab)))\n",
    "    return vocab_list, txt_str"
   ]
  },
  {
   "cell_type": "code",
   "execution_count": 41,
   "id": "e8429d7f",
   "metadata": {},
   "outputs": [],
   "source": [
    "def list_of_words_max_len(txt_str):\n",
    "    list_of_words = [txt.split(' ') for txt in txt_str]\n",
    "    for i in range(len(list_of_words)):\n",
    "        list_of_words[i] = [w for w in list_of_words[i] if w]\n",
    "\n",
    "    len_words = [len(v) for v in list_of_words]\n",
    "    max_len_words = max(len_words)\n",
    "    return list_of_words, len_words, max_len_words"
   ]
  },
  {
   "cell_type": "markdown",
   "id": "71cfa5cc",
   "metadata": {},
   "source": [
    "make functions for calculating results in sparse matrix for time and memory optimization"
   ]
  },
  {
   "cell_type": "code",
   "execution_count": 42,
   "id": "f3b7afdc",
   "metadata": {},
   "outputs": [],
   "source": [
    "def sparse_triangle_max(max_len_words, sig=25):    \n",
    "    S = sp.dok_array((max_len_words + 2 * sig, max_len_words + 2 * sig), dtype=np.float32)\n",
    "    res_f = [(1 - np.abs(i - sig) / sig) for i in range(1, sig * 2)]\n",
    "    for i in tqdm(range(sig, sig + max_len_words), total=max_len_words):\n",
    "        S[i, i-sig+1:i+sig] = res_f\n",
    "    return S"
   ]
  },
  {
   "cell_type": "code",
   "execution_count": 43,
   "id": "84efd34d",
   "metadata": {
    "scrolled": true
   },
   "outputs": [],
   "source": [
    "def sparse_triangle_crop(S, size, sig=25):\n",
    "    return S[sig:sig+size, sig:sig+size]"
   ]
  },
  {
   "cell_type": "code",
   "execution_count": 44,
   "id": "ef51ccdc",
   "metadata": {},
   "outputs": [],
   "source": [
    "def sparse_vocab(text, vocab):    \n",
    "    S = sp.dok_array((len(vocab), len(text)), dtype=np.float32)\n",
    "    v_to_i = {v:i for i, v in enumerate(vocab)}\n",
    "    for j, w in enumerate(text):\n",
    "        S[v_to_i[w], j] = 1\n",
    "    \n",
    "    return S"
   ]
  },
  {
   "cell_type": "markdown",
   "id": "698eca92",
   "metadata": {},
   "source": [
    "calculate matix"
   ]
  },
  {
   "cell_type": "code",
   "execution_count": 45,
   "id": "663b29bf",
   "metadata": {},
   "outputs": [],
   "source": [
    "def matix_txt(S, text, vocab):\n",
    "    len_txt = len(text)\n",
    "\n",
    "    f_res = sparse_triangle_crop(S, len_txt) # l x l\n",
    "    c_vocab = sparse_vocab(text, vocab) # w x l\n",
    "\n",
    "    num = c_vocab.tocsr() @ f_res.tocsc() # w x l @ l x l = w x l\n",
    "    denum = (c_vocab.tocsr() @ f_res.tocsc()).tocsc().sum(axis=0) # w x l @ l x l = w x l sum axis0 = 1xl\n",
    "    \n",
    "    denum = sp.csc_matrix(1 / denum)\n",
    "\n",
    "    return num * denum"
   ]
  },
  {
   "cell_type": "markdown",
   "id": "198e523f",
   "metadata": {},
   "source": [
    "calculate propogation matix"
   ]
  },
  {
   "cell_type": "code",
   "execution_count": 46,
   "id": "91a78d98",
   "metadata": {},
   "outputs": [],
   "source": [
    "# dir_to_save=r\"C:\\Users\\RedmiBook\\Documents\\SCE\\proj\\datasets\\calculated\\npz_2_parts\\res_1\\\\\"\n",
    "# # dir_to_save + name_of_files[0][:-4]\n",
    "# sp.save_npz(dir_to_save + name_of_files[0][:-4], matix_txt(S_1, list_of_words_1[0], vocab_list_1[0]))\n",
    "        "
   ]
  },
  {
   "cell_type": "code",
   "execution_count": 47,
   "id": "cdbacd78",
   "metadata": {},
   "outputs": [],
   "source": [
    "# matix_txt(S_1, list_of_words_1[0], vocab_list_1[0])"
   ]
  },
  {
   "cell_type": "code",
   "execution_count": 48,
   "id": "135ed0bd",
   "metadata": {},
   "outputs": [],
   "source": [
    "def calculate_save_npz(list_of_words, S, vocab_list, name_of_files, dir_to_save):\n",
    "    for i in tqdm(range(len(list_of_words))):\n",
    "        matix_item = matix_txt(S, list_of_words[i], vocab_list[i])    \n",
    "        sp.save_npz(dir_to_save + name_of_files[i][:-4], matix_item)"
   ]
  },
  {
   "cell_type": "markdown",
   "id": "55afe99b",
   "metadata": {},
   "source": [
    "download calculated matix and sum scores of the words per paragraph"
   ]
  },
  {
   "cell_type": "code",
   "execution_count": 49,
   "id": "59b6ff26",
   "metadata": {},
   "outputs": [],
   "source": [
    "def calculate_sum_of_art(txt_str_div_art, sum_arr_word, v_to_i):\n",
    "    article_weight, len_per_art = [], []\n",
    "    for article in txt_str_div_art:\n",
    "        split = [j for j in article.split(' ') if j]\n",
    "        len_art = len(split)\n",
    "        if len_art != 0:\n",
    "            par_split = 0\n",
    "            for par in split:\n",
    "                par_split += sum_arr_word[v_to_i[par]]\n",
    "            article_weight.append(float(par_split) / len_art)\n",
    "            len_per_art.append(len_art)\n",
    "        else:\n",
    "            article_weight.append(0)\n",
    "            len_per_art.append(0)\n",
    "            \n",
    "    return pd.DataFrame(list(zip(article_weight, len_per_art)), columns=['sum', 'len'])"
   ]
  },
  {
   "cell_type": "code",
   "execution_count": 50,
   "id": "ae47e86e",
   "metadata": {},
   "outputs": [],
   "source": [
    "def top_art(res):\n",
    "    sorted_res = res.sort_values(by=['sum'], ascending=False)\n",
    "    sorted_res['index'] = sorted_res.index\n",
    "\n",
    "    i, len_txt = 0, 0\n",
    "    num_art = []\n",
    "    while i < len(sorted_res) and len_txt < 1000:\n",
    "        len_txt += sorted_res.iloc(0)[i]['len']\n",
    "        num_art.append(int(sorted_res.iloc(0)[i]['index'])) \n",
    "        i += 1\n",
    "    num_art.sort()\n",
    "    return num_art, int(len_txt)"
   ]
  },
  {
   "cell_type": "code",
   "execution_count": 51,
   "id": "65bfd3f7",
   "metadata": {},
   "outputs": [],
   "source": [
    "# text_name = name_of_files[1]\n",
    "# i_t = 1\n",
    "# sum_arr_word = sp.load_npz(r\"C:\\Users\\RedmiBook\\Documents\\SCE\\proj\\datasets\\calculated\\res val short\\\\\" + text_name[:-4] + \".npz\").sum(axis=1)\n",
    "# v_to_i = {v:i for i, v in enumerate(vocab_list[i_t])}\n",
    "# pd_res = calculate_sum_of_art(txt_str_div_par[i_t], sum_arr_word, v_to_i)\n",
    "# list_art, _ = top_art(pd_res)"
   ]
  },
  {
   "cell_type": "code",
   "execution_count": 52,
   "id": "067528b3",
   "metadata": {},
   "outputs": [],
   "source": [
    "def download_npz(name_of_files, vocab_list, txt_str_div_par, dir_to_upload):\n",
    "    art_sum = []\n",
    "    for i_t, text_name in tqdm(enumerate(name_of_files), total=len(name_of_files)):\n",
    "\n",
    "        #calculate best articles in txt based on matrix\n",
    "        sum_arr_word = sp.load_npz(dir_to_upload + text_name[:-4] + \".npz\").sum(axis=1)\n",
    "        v_to_i = {v:i for i, v in enumerate(vocab_list[i_t])}\n",
    "        art_sum.append(calculate_sum_of_art(txt_str_div_par[i_t], sum_arr_word, v_to_i))\n",
    "    return art_sum"
   ]
  },
  {
   "cell_type": "code",
   "execution_count": 53,
   "id": "b95d4b43",
   "metadata": {},
   "outputs": [],
   "source": [
    "# max_rouge_part = [np.argmax([sum(file[:len(file)//2]['sum']), sum(file[len(file)//2:]['sum'])]) for file in art_sum]"
   ]
  },
  {
   "cell_type": "code",
   "execution_count": 54,
   "id": "584d9352",
   "metadata": {},
   "outputs": [],
   "source": [
    "def read_files(val_dir):\n",
    "    name_of_files = [f for f in listdir(val_dir) \n",
    "                 if isfile(join(val_dir, f))]\n",
    "    list_of_files = []\n",
    "    for file_name in name_of_files:        \n",
    "        list_of_files.append(open(val_dir + \"\\\\\" + file_name, \"r\", encoding='utf-8').read())\n",
    "    return name_of_files, list_of_files"
   ]
  },
  {
   "cell_type": "code",
   "execution_count": 55,
   "id": "f2f465f9",
   "metadata": {},
   "outputs": [],
   "source": [
    "def calc_rouge_mean(name_of_files, list_of_files, name_of_files_gold=name_of_files_gold, list_of_files_gold=list_of_files_gold, suf=4, cut=True):\n",
    "    j = 0\n",
    "    df_scores = pd.DataFrame(columns = [\"rouge-1, r\", \"rouge-1, p\", \"rouge-1, f\", \n",
    "                                        \"rouge-2, r\", \"rouge-2, p\", \"rouge-2, f\", \n",
    "                                        \"rouge-l, r\", \"rouge-l, p\", \"rouge-l, f\"])\n",
    "\n",
    "    for i in tqdm(range(len(name_of_files)), total=len(name_of_files)):\n",
    "        scores = []\n",
    "\n",
    "        while j < len(name_of_files_gold) and name_of_files_gold[j][:-6] != name_of_files[i][:-suf]:\n",
    "            j += 1\n",
    "        while j < len(name_of_files_gold) and name_of_files_gold[j][:-6] == name_of_files[i][:-suf]:\n",
    "            if cut == True:\n",
    "                list_of_files[i] = ' '.join(list_of_files[i].split(' ')[:1000])            \n",
    "            scores.append(rouge.get_scores(list_of_files[i], list_of_files_gold[j])[0])\n",
    "            j += 1\n",
    "#         print(scores)\n",
    "        if scores != []:\n",
    "            res_arr = np.zeros((len(scores), 9))\n",
    "            for i in range(len(scores)):\n",
    "                lst_i = list(scores[i].items())\n",
    "                \n",
    "                res_arr[i] = [list(lst_i[0][1].items())[0][1],\n",
    "                              list(lst_i[0][1].items())[1][1],\n",
    "                              list(lst_i[0][1].items())[2][1], \n",
    "                              list(lst_i[1][1].items())[0][1],\n",
    "                              list(lst_i[1][1].items())[1][1],\n",
    "                              list(lst_i[1][1].items())[2][1],\n",
    "                              list(lst_i[2][1].items())[0][1],\n",
    "                              list(lst_i[2][1].items())[1][1],\n",
    "                              list(lst_i[2][1].items())[2][1]]\n",
    "#                 print(res_arr[i])\n",
    "            df_scores.loc[len(df_scores)] = res_arr.mean(axis=0)\n",
    "        \n",
    "    return df_scores"
   ]
  },
  {
   "cell_type": "code",
   "execution_count": 56,
   "id": "4bf7e016",
   "metadata": {},
   "outputs": [],
   "source": [
    "vocab_list_1, txt_str_1 = make_vocab(txt_str_div_par_1)\n",
    "vocab_list_2, txt_str_2 = make_vocab(txt_str_div_par_2)"
   ]
  },
  {
   "cell_type": "code",
   "execution_count": 57,
   "id": "26b4eeec",
   "metadata": {},
   "outputs": [],
   "source": [
    "list_of_words_1, len_words_1, max_len_words_1 = list_of_words_max_len(txt_str_1)\n",
    "list_of_words_2, len_words_2, max_len_words_2 = list_of_words_max_len(txt_str_2)"
   ]
  },
  {
   "cell_type": "code",
   "execution_count": 58,
   "id": "33f6facb",
   "metadata": {
    "scrolled": false
   },
   "outputs": [
    {
     "data": {
      "application/vnd.jupyter.widget-view+json": {
       "model_id": "5c8a6db119f64d1096304f2005371796",
       "version_major": 2,
       "version_minor": 0
      },
      "text/plain": [
       "  0%|          | 0/7317 [00:00<?, ?it/s]"
      ]
     },
     "metadata": {},
     "output_type": "display_data"
    },
    {
     "data": {
      "application/vnd.jupyter.widget-view+json": {
       "model_id": "10db6430f2254db3a278b180d0ec06d9",
       "version_major": 2,
       "version_minor": 0
      },
      "text/plain": [
       "  0%|          | 0/7192 [00:00<?, ?it/s]"
      ]
     },
     "metadata": {},
     "output_type": "display_data"
    }
   ],
   "source": [
    "S_1 = sparse_triangle_max(max_len_words_1)\n",
    "S_2 = sparse_triangle_max(max_len_words_2)"
   ]
  },
  {
   "cell_type": "code",
   "execution_count": 59,
   "id": "33e8f285",
   "metadata": {
    "scrolled": true
   },
   "outputs": [
    {
     "data": {
      "application/vnd.jupyter.widget-view+json": {
       "model_id": "ce70a81f90de4f7c86fe3da708520f8c",
       "version_major": 2,
       "version_minor": 0
      },
      "text/plain": [
       "  0%|          | 0/363 [00:00<?, ?it/s]"
      ]
     },
     "metadata": {},
     "output_type": "display_data"
    },
    {
     "data": {
      "application/vnd.jupyter.widget-view+json": {
       "model_id": "b7ddd9f3c6424d1092c4069035d7c1ca",
       "version_major": 2,
       "version_minor": 0
      },
      "text/plain": [
       "  0%|          | 0/363 [00:00<?, ?it/s]"
      ]
     },
     "metadata": {},
     "output_type": "display_data"
    }
   ],
   "source": [
    "calculate_save_npz(list_of_words_1, S_1, vocab_list_1, name_of_files, dir_to_save=r\"C:\\Users\\RedmiBook\\Documents\\SCE\\proj\\datasets\\calculated\\no mask 10per\\res_1\\\\\")\n",
    "calculate_save_npz(list_of_words_2, S_2, vocab_list_2, name_of_files, dir_to_save=r\"C:\\Users\\RedmiBook\\Documents\\SCE\\proj\\datasets\\calculated\\no mask 10per\\res_2\\\\\")"
   ]
  },
  {
   "cell_type": "code",
   "execution_count": 60,
   "id": "3141b1c8",
   "metadata": {
    "scrolled": false
   },
   "outputs": [
    {
     "data": {
      "application/vnd.jupyter.widget-view+json": {
       "model_id": "123058b15dbe4954b7b2a5d093462ca8",
       "version_major": 2,
       "version_minor": 0
      },
      "text/plain": [
       "  0%|          | 0/363 [00:00<?, ?it/s]"
      ]
     },
     "metadata": {},
     "output_type": "display_data"
    },
    {
     "data": {
      "application/vnd.jupyter.widget-view+json": {
       "model_id": "77f5b4aed8eb4d91acf08c2a3d835b9a",
       "version_major": 2,
       "version_minor": 0
      },
      "text/plain": [
       "  0%|          | 0/363 [00:00<?, ?it/s]"
      ]
     },
     "metadata": {},
     "output_type": "display_data"
    }
   ],
   "source": [
    "art_sum_1 = download_npz(name_of_files, vocab_list_1, txt_str_div_par_1, dir_to_upload=r\"C:\\Users\\RedmiBook\\Documents\\SCE\\proj\\datasets\\calculated\\no mask 10per\\res_1\\\\\")\n",
    "art_sum_2 = download_npz(name_of_files, vocab_list_2, txt_str_div_par_2, dir_to_upload=r\"C:\\Users\\RedmiBook\\Documents\\SCE\\proj\\datasets\\calculated\\no mask 10per\\res_2\\\\\")"
   ]
  },
  {
   "cell_type": "code",
   "execution_count": 61,
   "id": "a77789c5",
   "metadata": {},
   "outputs": [
    {
     "data": {
      "application/vnd.jupyter.widget-view+json": {
       "model_id": "4b7e46551721485c91b1966b5638f6e3",
       "version_major": 2,
       "version_minor": 0
      },
      "text/plain": [
       "  0%|          | 0/363 [00:00<?, ?it/s]"
      ]
     },
     "metadata": {},
     "output_type": "display_data"
    }
   ],
   "source": [
    "for i_t, text_name in tqdm(enumerate(name_of_files), total=len(name_of_files)):\n",
    "    \n",
    "    #calculate best articles in txt based on matrix for 2 txt\n",
    "    list_art_1, _ = top_art(art_sum_1[i_t])\n",
    "    list_art_2, _ = top_art(art_sum_2[i_t])\n",
    "    \n",
    "    #write results to txt\n",
    "    txt_1 = ''\n",
    "    for i in list_art_1:\n",
    "        txt_1 += txt_splited_1[i_t][i] + '\\n'\n",
    "    with open(r\"C:\\Users\\RedmiBook\\Documents\\SCE\\proj\\datasets\\calculated\\no mask 10per\\txt_1\\\\\" + text_name, 'w') as f:\n",
    "        f.write(txt_1)\n",
    "        \n",
    "    txt_2 = ''\n",
    "    for i in list_art_2:\n",
    "        txt_2 += txt_splited_2[i_t][i] + '\\n'\n",
    "    with open(r\"C:\\Users\\RedmiBook\\Documents\\SCE\\proj\\datasets\\calculated\\no mask 10per\\txt_2\\\\\" + text_name, 'w') as f:\n",
    "        f.write(txt_2)"
   ]
  },
  {
   "cell_type": "code",
   "execution_count": 62,
   "id": "14d6517f",
   "metadata": {},
   "outputs": [],
   "source": [
    "val_res_1_dir = r\"C:\\Users\\RedmiBook\\Documents\\SCE\\proj\\datasets\\calculated\\no mask 10per\\txt_1\"\n",
    "val_res_2_dir = r\"C:\\Users\\RedmiBook\\Documents\\SCE\\proj\\datasets\\calculated\\no mask 10per\\txt_2\"\n",
    "val_gold_dir = r\"C:\\Users\\RedmiBook\\Documents\\SCE\\proj\\datasets\\fns2020_dataset_clean\\validation\\gold_summaries\"\n",
    "# val_top_dir = r\"C:\\Users\\RedmiBook\\Documents\\SCE\\proj\\datasets\\top1000-summaries\"\n",
    "# val_muse_dir = r\"C:\\Users\\RedmiBook\\Documents\\SCE\\proj\\datasets\\validation-muse-1000\""
   ]
  },
  {
   "cell_type": "code",
   "execution_count": 63,
   "id": "f1d88e09",
   "metadata": {},
   "outputs": [],
   "source": [
    "name_of_files_gold, list_of_files_gold = read_files(val_gold_dir)\n",
    "name_of_files_calc_1, list_of_files_calc_1 = read_files(val_res_1_dir)\n",
    "name_of_files_calc_2, list_of_files_calc_2 = read_files(val_res_2_dir)   \n",
    "# name_of_files_1000, list_of_files_1000 = read_files(val_top_dir)\n",
    "# name_of_files_muse, list_of_files_muse = read_files(val_muse_dir)"
   ]
  },
  {
   "cell_type": "code",
   "execution_count": 64,
   "id": "587e558d",
   "metadata": {},
   "outputs": [],
   "source": [
    "def calc_rouge_mean_half(name_of_files, list_of_files_1, list_of_files_2, name_of_files_gold=name_of_files_gold, list_of_files_gold=list_of_files_gold, suf=4, cut=True):\n",
    "    j = 0\n",
    "    df_scores = pd.DataFrame(columns = [\"rouge-1, r\", \"rouge-1, p\", \"rouge-1, f\", \n",
    "                                        \"rouge-2, r\", \"rouge-2, p\", \"rouge-2, f\", \n",
    "                                        \"rouge-l, r\", \"rouge-l, p\", \"rouge-l, f\"])\n",
    "    scores_id = []\n",
    "    for i in tqdm(range(len(name_of_files)), total=len(name_of_files)):\n",
    "        scores = []\n",
    "\n",
    "        while j < len(name_of_files_gold) and name_of_files_gold[j][:-6] != name_of_files[i][:-suf]:\n",
    "            j += 1\n",
    "        while j < len(name_of_files_gold) and name_of_files_gold[j][:-6] == name_of_files[i][:-suf]:\n",
    "            if cut == True:\n",
    "                list_of_files_1[i] = ' '.join(list_of_files_1[i].split(' ')[:1000])     \n",
    "                list_of_files_2[i] = ' '.join(list_of_files_2[i].split(' ')[:1000])     \n",
    "            sc_1 = rouge.get_scores(list_of_files_1[i], list_of_files_gold[j])[0]\n",
    "            sc_2 = rouge.get_scores(list_of_files_2[i], list_of_files_gold[j])[0]\n",
    "            #take max res for calc rouge\n",
    "            best_sc_id = np.argmax([sc_1['rouge-1']['f'], sc_2['rouge-1']['f']])\n",
    "            if best_sc_id > 0:\n",
    "                scores.append(sc_2)\n",
    "            else:\n",
    "                scores.append(sc_1)\n",
    "            j += 1\n",
    "#         print(scores)\n",
    "        if scores != []:\n",
    "            res_arr = np.zeros((len(scores), 9))\n",
    "            for i in range(len(scores)):\n",
    "                lst_i = list(scores[i].items())\n",
    "                \n",
    "                res_arr[i] = [list(lst_i[0][1].items())[0][1],\n",
    "                              list(lst_i[0][1].items())[1][1],\n",
    "                              list(lst_i[0][1].items())[2][1], \n",
    "                              list(lst_i[1][1].items())[0][1],\n",
    "                              list(lst_i[1][1].items())[1][1],\n",
    "                              list(lst_i[1][1].items())[2][1],\n",
    "                              list(lst_i[2][1].items())[0][1],\n",
    "                              list(lst_i[2][1].items())[1][1],\n",
    "                              list(lst_i[2][1].items())[2][1]]\n",
    "                \n",
    "            df_scores.loc[len(df_scores)] = res_arr.mean(axis=0)\n",
    "        scores_id.append(best_sc_id)\n",
    "    return df_scores, scores_id"
   ]
  },
  {
   "cell_type": "code",
   "execution_count": 65,
   "id": "3dd613e2",
   "metadata": {},
   "outputs": [],
   "source": [
    "# best_rouge_calc_mean_best_half, scores_res = calc_rouge_mean_half(name_of_files, list_of_files_1, list_of_files_2)"
   ]
  },
  {
   "cell_type": "code",
   "execution_count": 66,
   "id": "0e6328fc",
   "metadata": {
    "scrolled": true
   },
   "outputs": [
    {
     "data": {
      "application/vnd.jupyter.widget-view+json": {
       "model_id": "692d2cdaadfb411cbe18f0b292739acf",
       "version_major": 2,
       "version_minor": 0
      },
      "text/plain": [
       "  0%|          | 0/363 [00:00<?, ?it/s]"
      ]
     },
     "metadata": {},
     "output_type": "display_data"
    },
    {
     "data": {
      "application/vnd.jupyter.widget-view+json": {
       "model_id": "d9a98676dff541d29053422b99ec3931",
       "version_major": 2,
       "version_minor": 0
      },
      "text/plain": [
       "  0%|          | 0/363 [00:00<?, ?it/s]"
      ]
     },
     "metadata": {},
     "output_type": "display_data"
    }
   ],
   "source": [
    "best_rouge_calc_mean_1 = calc_rouge_mean(name_of_files_calc_1, list_of_files_calc_1)\n",
    "best_rouge_calc_mean_2 = calc_rouge_mean(name_of_files_calc_2, list_of_files_calc_2)"
   ]
  },
  {
   "cell_type": "code",
   "execution_count": 67,
   "id": "7d42a7e4",
   "metadata": {
    "scrolled": false
   },
   "outputs": [],
   "source": [
    "# best_rouge_1000_mean = calc_rouge_mean(name_of_files_1000, list_of_files_1000, suf=9)\n",
    "# best_rouge_muse_mean = calc_rouge_mean(name_of_files_muse, list_of_files_muse, suf=9)"
   ]
  },
  {
   "cell_type": "code",
   "execution_count": 68,
   "id": "c46ad638",
   "metadata": {},
   "outputs": [],
   "source": [
    "dir_res = r\"C:\\Users\\RedmiBook\\Documents\\SCE\\proj\\datasets\\calculated\\no mask 10per\\\\\""
   ]
  },
  {
   "cell_type": "code",
   "execution_count": 73,
   "id": "efb8c635",
   "metadata": {},
   "outputs": [],
   "source": [
    "def write_best_2_txt(dir_res=dir_res, name_of_files=name_of_files, art_sum=[art_sum_1, art_sum_2], txt_splited=[txt_splited_1, txt_splited_2], res_id_list=res_id_list):\n",
    "    for i_t, text_name in tqdm(enumerate(name_of_files), total=len(name_of_files)):\n",
    "    \n",
    "        #calculate best articles in txt based on matrix for 2 txt\n",
    "        list_art_1, _ = top_art(art_sum[0][i_t])\n",
    "        list_art_2, _ = top_art(art_sum[1][i_t])\n",
    "\n",
    "        #write results to txt\n",
    "        txt_1, txt_2 = '', ''\n",
    "        for i_1, i_2 in zip(list_art_1, list_art_2):\n",
    "            txt_1 += txt_splited[0][i_t][i_1] + '\\n'\n",
    "            txt_2 += txt_splited[1][i_t][i_2] + '\\n'\n",
    "       \n",
    "        with open(dir_res + \"txt_best\\\\\" + text_name, 'w') as f:\n",
    "            f.write([txt_1, txt_2][res_id_list[i_t]])\n",
    "        \n",
    "        with open(dir_res + \"txt_1\\\\\" + text_name, 'w') as f:\n",
    "            f.write(txt_1)        \n",
    "        with open(dir_res + \"txt_2\\\\\" + text_name, 'w') as f:\n",
    "            f.write(txt_2)"
   ]
  },
  {
   "cell_type": "code",
   "execution_count": 74,
   "id": "139b7048",
   "metadata": {},
   "outputs": [
    {
     "data": {
      "application/vnd.jupyter.widget-view+json": {
       "model_id": "12f578b3e62840f2a75e77ddb9cfb0a0",
       "version_major": 2,
       "version_minor": 0
      },
      "text/plain": [
       "  0%|          | 0/363 [00:00<?, ?it/s]"
      ]
     },
     "metadata": {},
     "output_type": "display_data"
    }
   ],
   "source": [
    "write_best_2_txt()"
   ]
  },
  {
   "cell_type": "code",
   "execution_count": 76,
   "id": "ef01f313",
   "metadata": {},
   "outputs": [
    {
     "data": {
      "application/vnd.jupyter.widget-view+json": {
       "model_id": "fffabfa511f548bda091a86ab41a5fab",
       "version_major": 2,
       "version_minor": 0
      },
      "text/plain": [
       "  0%|          | 0/363 [00:00<?, ?it/s]"
      ]
     },
     "metadata": {},
     "output_type": "display_data"
    }
   ],
   "source": [
    "name_of_files_calc_fin, list_of_files_calc_fin = read_files(r\"C:\\Users\\RedmiBook\\Documents\\SCE\\proj\\datasets\\calculated\\no mask 10per\\txt_best\")\n",
    "best_rouge_calc_mean_fin = calc_rouge_mean(name_of_files_calc_fin, list_of_files_calc_fin)\n"
   ]
  },
  {
   "cell_type": "code",
   "execution_count": 79,
   "id": "ffbe36ba",
   "metadata": {
    "scrolled": false
   },
   "outputs": [
    {
     "data": {
      "text/html": [
       "<div>\n",
       "<style scoped>\n",
       "    .dataframe tbody tr th:only-of-type {\n",
       "        vertical-align: middle;\n",
       "    }\n",
       "\n",
       "    .dataframe tbody tr th {\n",
       "        vertical-align: top;\n",
       "    }\n",
       "\n",
       "    .dataframe thead th {\n",
       "        text-align: right;\n",
       "    }\n",
       "</style>\n",
       "<table border=\"1\" class=\"dataframe\">\n",
       "  <thead>\n",
       "    <tr style=\"text-align: right;\">\n",
       "      <th></th>\n",
       "      <th></th>\n",
       "      <th>calc_1</th>\n",
       "      <th>calc_2</th>\n",
       "      <th>calc_fin</th>\n",
       "    </tr>\n",
       "  </thead>\n",
       "  <tbody>\n",
       "    <tr>\n",
       "      <th rowspan=\"3\" valign=\"top\">rouge1</th>\n",
       "      <th>r</th>\n",
       "      <td>0.420170</td>\n",
       "      <td>0.336501</td>\n",
       "      <td>0.349956</td>\n",
       "    </tr>\n",
       "    <tr>\n",
       "      <th>p</th>\n",
       "      <td>0.407456</td>\n",
       "      <td>0.367660</td>\n",
       "      <td>0.400912</td>\n",
       "    </tr>\n",
       "    <tr>\n",
       "      <th>f1</th>\n",
       "      <td>0.376646</td>\n",
       "      <td>0.319294</td>\n",
       "      <td>0.338283</td>\n",
       "    </tr>\n",
       "    <tr>\n",
       "      <th rowspan=\"3\" valign=\"top\">rouge2</th>\n",
       "      <th>r</th>\n",
       "      <td>0.258895</td>\n",
       "      <td>0.154765</td>\n",
       "      <td>0.184426</td>\n",
       "    </tr>\n",
       "    <tr>\n",
       "      <th>p</th>\n",
       "      <td>0.233701</td>\n",
       "      <td>0.190439</td>\n",
       "      <td>0.220960</td>\n",
       "    </tr>\n",
       "    <tr>\n",
       "      <th>f1</th>\n",
       "      <td>0.217404</td>\n",
       "      <td>0.150651</td>\n",
       "      <td>0.176218</td>\n",
       "    </tr>\n",
       "    <tr>\n",
       "      <th rowspan=\"3\" valign=\"top\">rougel</th>\n",
       "      <th>r</th>\n",
       "      <td>0.399542</td>\n",
       "      <td>0.309396</td>\n",
       "      <td>0.326856</td>\n",
       "    </tr>\n",
       "    <tr>\n",
       "      <th>p</th>\n",
       "      <td>0.384866</td>\n",
       "      <td>0.341449</td>\n",
       "      <td>0.375409</td>\n",
       "    </tr>\n",
       "    <tr>\n",
       "      <th>f1</th>\n",
       "      <td>0.356810</td>\n",
       "      <td>0.294623</td>\n",
       "      <td>0.316073</td>\n",
       "    </tr>\n",
       "  </tbody>\n",
       "</table>\n",
       "</div>"
      ],
      "text/plain": [
       "             calc_1    calc_2  calc_fin\n",
       "rouge1 r   0.420170  0.336501  0.349956\n",
       "       p   0.407456  0.367660  0.400912\n",
       "       f1  0.376646  0.319294  0.338283\n",
       "rouge2 r   0.258895  0.154765  0.184426\n",
       "       p   0.233701  0.190439  0.220960\n",
       "       f1  0.217404  0.150651  0.176218\n",
       "rougel r   0.399542  0.309396  0.326856\n",
       "       p   0.384866  0.341449  0.375409\n",
       "       f1  0.356810  0.294623  0.316073"
      ]
     },
     "execution_count": 79,
     "metadata": {},
     "output_type": "execute_result"
    }
   ],
   "source": [
    "names = [\n",
    "    np.array([\"rouge1\", \"rouge1\", \"rouge1\", \"rouge2\", \"rouge2\", \"rouge2\", \"rougel\", \"rougel\", \"rougel\"]),\n",
    "    np.array([\"r\", \"p\", \"f1\", \"r\", \"p\", \"f1\", \"r\", \"p\", \"f1\"]),\n",
    "    ]\n",
    "\n",
    "df_rouge = pd.DataFrame([list(best_rouge_calc_mean_1.mean()), list(best_rouge_calc_mean_2.mean()), list(best_rouge_calc_mean_fin.mean())], \n",
    "                        index=['calc_1', 'calc_2', 'calc_fin'], columns=names)\n",
    "df_rouge.transpose()"
   ]
  },
  {
   "cell_type": "code",
   "execution_count": 80,
   "id": "0bf6e330",
   "metadata": {},
   "outputs": [],
   "source": [
    "df_rouge.transpose().to_csv(r\"C:\\Users\\RedmiBook\\Documents\\SCE\\proj\\datasets\\calculated\\tabel of results 10per.csv\", index=False)"
   ]
  },
  {
   "cell_type": "code",
   "execution_count": 70,
   "id": "1d44c6c9",
   "metadata": {},
   "outputs": [
    {
     "data": {
      "text/html": [
       "<div>\n",
       "<style scoped>\n",
       "    .dataframe tbody tr th:only-of-type {\n",
       "        vertical-align: middle;\n",
       "    }\n",
       "\n",
       "    .dataframe tbody tr th {\n",
       "        vertical-align: top;\n",
       "    }\n",
       "\n",
       "    .dataframe thead th {\n",
       "        text-align: right;\n",
       "    }\n",
       "</style>\n",
       "<table border=\"1\" class=\"dataframe\">\n",
       "  <thead>\n",
       "    <tr style=\"text-align: right;\">\n",
       "      <th></th>\n",
       "      <th></th>\n",
       "      <th>calc_fin</th>\n",
       "      <th>top-1000</th>\n",
       "      <th>muse</th>\n",
       "    </tr>\n",
       "  </thead>\n",
       "  <tbody>\n",
       "    <tr>\n",
       "      <th rowspan=\"3\" valign=\"top\">rouge1</th>\n",
       "      <th>r</th>\n",
       "      <td>0.349370</td>\n",
       "      <td>0.534894</td>\n",
       "      <td>0.456453</td>\n",
       "    </tr>\n",
       "    <tr>\n",
       "      <th>p</th>\n",
       "      <td>0.367413</td>\n",
       "      <td>0.374408</td>\n",
       "      <td>0.408530</td>\n",
       "    </tr>\n",
       "    <tr>\n",
       "      <th>f1</th>\n",
       "      <td>0.325019</td>\n",
       "      <td>0.399157</td>\n",
       "      <td>0.391644</td>\n",
       "    </tr>\n",
       "    <tr>\n",
       "      <th rowspan=\"3\" valign=\"top\">rouge2</th>\n",
       "      <th>r</th>\n",
       "      <td>0.173686</td>\n",
       "      <td>0.398208</td>\n",
       "      <td>0.288377</td>\n",
       "    </tr>\n",
       "    <tr>\n",
       "      <th>p</th>\n",
       "      <td>0.187328</td>\n",
       "      <td>0.225484</td>\n",
       "      <td>0.248800</td>\n",
       "    </tr>\n",
       "    <tr>\n",
       "      <th>f1</th>\n",
       "      <td>0.157917</td>\n",
       "      <td>0.255004</td>\n",
       "      <td>0.234891</td>\n",
       "    </tr>\n",
       "    <tr>\n",
       "      <th rowspan=\"3\" valign=\"top\">rougel</th>\n",
       "      <th>r</th>\n",
       "      <td>0.324953</td>\n",
       "      <td>0.516190</td>\n",
       "      <td>0.436119</td>\n",
       "    </tr>\n",
       "    <tr>\n",
       "      <th>p</th>\n",
       "      <td>0.342461</td>\n",
       "      <td>0.354901</td>\n",
       "      <td>0.388336</td>\n",
       "    </tr>\n",
       "    <tr>\n",
       "      <th>f1</th>\n",
       "      <td>0.302328</td>\n",
       "      <td>0.381251</td>\n",
       "      <td>0.373106</td>\n",
       "    </tr>\n",
       "  </tbody>\n",
       "</table>\n",
       "</div>"
      ],
      "text/plain": [
       "           calc_fin  top-1000      muse\n",
       "rouge1 r   0.349370  0.534894  0.456453\n",
       "       p   0.367413  0.374408  0.408530\n",
       "       f1  0.325019  0.399157  0.391644\n",
       "rouge2 r   0.173686  0.398208  0.288377\n",
       "       p   0.187328  0.225484  0.248800\n",
       "       f1  0.157917  0.255004  0.234891\n",
       "rougel r   0.324953  0.516190  0.436119\n",
       "       p   0.342461  0.354901  0.388336\n",
       "       f1  0.302328  0.381251  0.373106"
      ]
     },
     "execution_count": 70,
     "metadata": {},
     "output_type": "execute_result"
    }
   ],
   "source": [
    "names = [\n",
    "    [\"rouge1\", \"rouge1\", \"rouge1\", \"rouge2\", \"rouge2\", \"rouge2\", \"rougel\", \"rougel\", \"rougel\"],\n",
    "    [\"r\", \"p\", \"f1\", \"r\", \"p\", \"f1\", \"r\", \"p\", \"f1\"],\n",
    "    ]\n",
    " \n",
    "df_rouge = pd.DataFrame([list(best_rouge_calc_mean_fin.mean()), list(best_rouge_1000_mean.mean()), list(best_rouge_muse_mean.mean())], \n",
    "                        index=['calc_fin', 'top-1000', 'muse'], columns=names)\n",
    "df_rouge.transpose()"
   ]
  },
  {
   "cell_type": "code",
   "execution_count": 103,
   "id": "5d675702",
   "metadata": {},
   "outputs": [
    {
     "data": {
      "text/plain": [
       "0.5426997245179064"
      ]
     },
     "execution_count": 103,
     "metadata": {},
     "output_type": "execute_result"
    }
   ],
   "source": [
    "sum_r = 0\n",
    "for i in range(len(scores_res)):\n",
    "    if scores_calc[i] == scores_res[i]:\n",
    "        sum_r += 1\n",
    "sum_r/len(scores_res)"
   ]
  },
  {
   "cell_type": "code",
   "execution_count": 1,
   "id": "041dfe24",
   "metadata": {},
   "outputs": [],
   "source": [
    "def mask_NUM_PROPN(txt_splited):\n",
    "    res_finish = []\n",
    "    for text in tqdm(txt_splited):\n",
    "        res_txt = []\n",
    "        for paragraph in text:\n",
    "            res_par = ''\n",
    "            for token in nlp(paragraph):\n",
    "                if token.pos_ == 'NUM' or token.pos_ == 'PROPN':\n",
    "                    res_par += token.pos_ + ' '\n",
    "                elif token.text.isalpha():\n",
    "                    res_par += token.text.lower() + ' '\n",
    "            res_txt.append(res_par)\n",
    "        res_finish.append(res_txt)        \n",
    "    return res_finish"
   ]
  },
  {
   "cell_type": "code",
   "execution_count": 6,
   "id": "b97f6e10",
   "metadata": {
    "scrolled": true
   },
   "outputs": [
    {
     "data": {
      "application/vnd.jupyter.widget-view+json": {
       "model_id": "4bd9d89eaa874b14a7bfa9e5fe56c506",
       "version_major": 2,
       "version_minor": 0
      },
      "text/plain": [
       "  0%|          | 0/363 [00:00<?, ?it/s]"
      ]
     },
     "metadata": {},
     "output_type": "display_data"
    },
    {
     "data": {
      "application/vnd.jupyter.widget-view+json": {
       "model_id": "56644759cfe340879c6ab2c96899e468",
       "version_major": 2,
       "version_minor": 0
      },
      "text/plain": [
       "  0%|          | 0/363 [00:00<?, ?it/s]"
      ]
     },
     "metadata": {},
     "output_type": "display_data"
    }
   ],
   "source": [
    "txt_splited_1 = [file_txt.split('\\n') for file_txt in list_of_files_1]\n",
    "txt_str_div_par_1_num = mask_NUM_PROPN(txt_splited_1)\n",
    "\n",
    "txt_splited_2 = [file_txt.split('\\n') for file_txt in list_of_files_2]\n",
    "txt_str_div_par_2_num = mask_NUM_PROPN(txt_splited_2)"
   ]
  },
  {
   "cell_type": "code",
   "execution_count": 13,
   "id": "9b979da2",
   "metadata": {},
   "outputs": [],
   "source": [
    "vocab_list_1, txt_str_1 = make_vocab(txt_str_div_par_1_num)\n",
    "vocab_list_2, txt_str_2 = make_vocab(txt_str_div_par_2_num)"
   ]
  },
  {
   "cell_type": "code",
   "execution_count": 21,
   "id": "47178d99",
   "metadata": {},
   "outputs": [],
   "source": [
    "list_of_words_1, len_words_1, max_len_words_1 = list_of_words_max_len(txt_str_1)\n",
    "list_of_words_2, len_words_2, max_len_words_2 = list_of_words_max_len(txt_str_2)"
   ]
  },
  {
   "cell_type": "code",
   "execution_count": 35,
   "id": "499099df",
   "metadata": {
    "scrolled": true
   },
   "outputs": [
    {
     "data": {
      "application/vnd.jupyter.widget-view+json": {
       "model_id": "ef7850fda6414372b40075a924967bac",
       "version_major": 2,
       "version_minor": 0
      },
      "text/plain": [
       "  0%|          | 0/11535 [00:00<?, ?it/s]"
      ]
     },
     "metadata": {},
     "output_type": "display_data"
    },
    {
     "data": {
      "application/vnd.jupyter.widget-view+json": {
       "model_id": "5c6e72951bd94aefa6b2661a46fb327f",
       "version_major": 2,
       "version_minor": 0
      },
      "text/plain": [
       "  0%|          | 0/11271 [00:00<?, ?it/s]"
      ]
     },
     "metadata": {},
     "output_type": "display_data"
    }
   ],
   "source": [
    "S_1 = sparse_triangle_max(max_len_words_1)\n",
    "S_2 = sparse_triangle_max(max_len_words_2)"
   ]
  },
  {
   "cell_type": "code",
   "execution_count": 36,
   "id": "aba3132c",
   "metadata": {
    "scrolled": true
   },
   "outputs": [
    {
     "data": {
      "application/vnd.jupyter.widget-view+json": {
       "model_id": "7cc0ee0426d2410ebeaf5154909504a1",
       "version_major": 2,
       "version_minor": 0
      },
      "text/plain": [
       "  0%|          | 0/363 [00:00<?, ?it/s]"
      ]
     },
     "metadata": {},
     "output_type": "display_data"
    },
    {
     "data": {
      "application/vnd.jupyter.widget-view+json": {
       "model_id": "6f498af4f2b44e2a8affc8723ba6c643",
       "version_major": 2,
       "version_minor": 0
      },
      "text/plain": [
       "  0%|          | 0/363 [00:00<?, ?it/s]"
      ]
     },
     "metadata": {},
     "output_type": "display_data"
    }
   ],
   "source": [
    "calculate_save_npz(list_of_words_1, S_1, vocab_list_1, name_of_files, dir_to_save=r\"C:\\Users\\RedmiBook\\Documents\\SCE\\proj\\datasets\\calculated\\npz_2_parts_PROPN\\res_1\\\\\")\n",
    "calculate_save_npz(list_of_words_2, S_2, vocab_list_2, name_of_files, dir_to_save=r\"C:\\Users\\RedmiBook\\Documents\\SCE\\proj\\datasets\\calculated\\npz_2_parts_PROPN\\res_2\\\\\")"
   ]
  },
  {
   "cell_type": "code",
   "execution_count": 21,
   "id": "acbd293a",
   "metadata": {
    "scrolled": false
   },
   "outputs": [
    {
     "ename": "NameError",
     "evalue": "name 'vocab_list_1' is not defined",
     "output_type": "error",
     "traceback": [
      "\u001b[1;31m---------------------------------------------------------------------------\u001b[0m",
      "\u001b[1;31mNameError\u001b[0m                                 Traceback (most recent call last)",
      "\u001b[1;32mC:\\Users\\REDMIB~1\\AppData\\Local\\Temp/ipykernel_12380/3629227846.py\u001b[0m in \u001b[0;36m<module>\u001b[1;34m\u001b[0m\n\u001b[1;32m----> 1\u001b[1;33m \u001b[0mart_sum_1\u001b[0m \u001b[1;33m=\u001b[0m \u001b[0mdownload_npz\u001b[0m\u001b[1;33m(\u001b[0m\u001b[0mname_of_files\u001b[0m\u001b[1;33m,\u001b[0m \u001b[0mvocab_list_1\u001b[0m\u001b[1;33m,\u001b[0m \u001b[0mtxt_str_div_par_1_num\u001b[0m\u001b[1;33m,\u001b[0m \u001b[0mdir_to_upload\u001b[0m\u001b[1;33m=\u001b[0m\u001b[1;34mr\"C:\\Users\\RedmiBook\\Documents\\SCE\\proj\\datasets\\calculated\\npz_2_parts_PROPN\\res_1\\\\\"\u001b[0m\u001b[1;33m)\u001b[0m\u001b[1;33m\u001b[0m\u001b[1;33m\u001b[0m\u001b[0m\n\u001b[0m\u001b[0;32m      2\u001b[0m \u001b[0mart_sum_2\u001b[0m \u001b[1;33m=\u001b[0m \u001b[0mdownload_npz\u001b[0m\u001b[1;33m(\u001b[0m\u001b[0mname_of_files\u001b[0m\u001b[1;33m,\u001b[0m \u001b[0mvocab_list_2\u001b[0m\u001b[1;33m,\u001b[0m \u001b[0mtxt_str_div_par_2_num\u001b[0m\u001b[1;33m,\u001b[0m \u001b[0mdir_to_upload\u001b[0m\u001b[1;33m=\u001b[0m\u001b[1;34mr\"C:\\Users\\RedmiBook\\Documents\\SCE\\proj\\datasets\\calculated\\npz_2_parts_PROPN\\res_2\\\\\"\u001b[0m\u001b[1;33m)\u001b[0m\u001b[1;33m\u001b[0m\u001b[1;33m\u001b[0m\u001b[0m\n",
      "\u001b[1;31mNameError\u001b[0m: name 'vocab_list_1' is not defined"
     ]
    }
   ],
   "source": [
    "art_sum_1 = download_npz(name_of_files, vocab_list_1, txt_str_div_par_1_num, dir_to_upload=r\"C:\\Users\\RedmiBook\\Documents\\SCE\\proj\\datasets\\calculated\\npz_2_parts_PROPN\\res_1\\\\\")\n",
    "art_sum_2 = download_npz(name_of_files, vocab_list_2, txt_str_div_par_2_num, dir_to_upload=r\"C:\\Users\\RedmiBook\\Documents\\SCE\\proj\\datasets\\calculated\\npz_2_parts_PROPN\\res_2\\\\\")"
   ]
  },
  {
   "cell_type": "code",
   "execution_count": 71,
   "id": "d1171ab3",
   "metadata": {},
   "outputs": [],
   "source": [
    "def choose_best_txt_from2(art_sum_1, art_sum_2):\n",
    "    res_id_list = []\n",
    "    for art in tqdm(range(len(art_sum_1))):\n",
    "        res_id_list.append(np.argmax([sum([art_sum_1[art]['sum'][i] for i in top_art(art_sum_1[art])[0]]), \n",
    "                                      sum([art_sum_2[art]['sum'][i] for i in top_art(art_sum_2[art])[0]])]))\n",
    "    return res_id_list            "
   ]
  },
  {
   "cell_type": "code",
   "execution_count": 72,
   "id": "b33b48f6",
   "metadata": {
    "scrolled": true
   },
   "outputs": [
    {
     "data": {
      "application/vnd.jupyter.widget-view+json": {
       "model_id": "d172162695364976929f4e718ccad593",
       "version_major": 2,
       "version_minor": 0
      },
      "text/plain": [
       "  0%|          | 0/363 [00:00<?, ?it/s]"
      ]
     },
     "metadata": {},
     "output_type": "display_data"
    }
   ],
   "source": [
    "res_id_list = choose_best_txt_from2(art_sum_1, art_sum_2)"
   ]
  },
  {
   "cell_type": "code",
   "execution_count": 41,
   "id": "a2dc91a0",
   "metadata": {},
   "outputs": [
    {
     "data": {
      "application/vnd.jupyter.widget-view+json": {
       "model_id": "51007cbc406443ee94fe0a014ed58cdb",
       "version_major": 2,
       "version_minor": 0
      },
      "text/plain": [
       "  0%|          | 0/363 [00:00<?, ?it/s]"
      ]
     },
     "metadata": {},
     "output_type": "display_data"
    }
   ],
   "source": [
    "write_best_2_txt()"
   ]
  },
  {
   "cell_type": "code",
   "execution_count": 64,
   "id": "e2a692e8",
   "metadata": {},
   "outputs": [],
   "source": [
    "name_of_files_calc_best, list_of_files_calc_best = read_files(dir_res + \"txt_best\")"
   ]
  },
  {
   "cell_type": "code",
   "execution_count": 65,
   "id": "d52033a8",
   "metadata": {
    "scrolled": true
   },
   "outputs": [
    {
     "data": {
      "application/vnd.jupyter.widget-view+json": {
       "model_id": "9c1c82c3d13a4d37aa9015b318a7abea",
       "version_major": 2,
       "version_minor": 0
      },
      "text/plain": [
       "  0%|          | 0/363 [00:00<?, ?it/s]"
      ]
     },
     "metadata": {},
     "output_type": "display_data"
    }
   ],
   "source": [
    "best_rouge_calc_mean_best = calc_rouge_mean(name_of_files_calc_best, list_of_files_calc_best)"
   ]
  },
  {
   "cell_type": "code",
   "execution_count": 42,
   "id": "c237fd10",
   "metadata": {},
   "outputs": [],
   "source": [
    "val_res_1_dir = r\"C:\\Users\\RedmiBook\\Documents\\SCE\\proj\\datasets\\calculated\\npz_2_parts_PROPN\\txt_1\"\n",
    "val_res_2_dir = r\"C:\\Users\\RedmiBook\\Documents\\SCE\\proj\\datasets\\calculated\\npz_2_parts_PROPN\\txt_2\"\n",
    "val_gold_dir = r\"C:\\Users\\RedmiBook\\Documents\\SCE\\proj\\datasets\\fns2020_dataset_clean\\validation\\gold_summaries\"\n",
    "# val_top_dir = r\"C:\\Users\\RedmiBook\\Documents\\SCE\\proj\\datasets\\top1000-summaries\"\n",
    "# val_muse_dir = r\"C:\\Users\\RedmiBook\\Documents\\SCE\\proj\\datasets\\validation-muse-1000\""
   ]
  },
  {
   "cell_type": "code",
   "execution_count": 45,
   "id": "83739a32",
   "metadata": {},
   "outputs": [],
   "source": [
    "name_of_files_gold, list_of_files_gold = read_files(val_gold_dir)\n",
    "name_of_files_calc_1, list_of_files_calc_1 = read_files(val_res_1_dir)\n",
    "name_of_files_calc_2, list_of_files_calc_2 = read_files(val_res_2_dir)   \n",
    "# name_of_files_1000, list_of_files_1000 = read_files(val_top_dir)\n",
    "# name_of_files_muse, list_of_files_muse = read_files(val_muse_dir)"
   ]
  },
  {
   "cell_type": "code",
   "execution_count": 48,
   "id": "0022241f",
   "metadata": {
    "scrolled": true
   },
   "outputs": [
    {
     "data": {
      "application/vnd.jupyter.widget-view+json": {
       "model_id": "c8ac32024da1454b971d770ff4d093c1",
       "version_major": 2,
       "version_minor": 0
      },
      "text/plain": [
       "  0%|          | 0/363 [00:00<?, ?it/s]"
      ]
     },
     "metadata": {},
     "output_type": "display_data"
    },
    {
     "data": {
      "application/vnd.jupyter.widget-view+json": {
       "model_id": "1036255130864ff693828f78b99fb324",
       "version_major": 2,
       "version_minor": 0
      },
      "text/plain": [
       "  0%|          | 0/363 [00:00<?, ?it/s]"
      ]
     },
     "metadata": {},
     "output_type": "display_data"
    }
   ],
   "source": [
    "best_rouge_calc_mean_1 = calc_rouge_mean(name_of_files_calc_1, list_of_files_calc_1)\n",
    "best_rouge_calc_mean_2 = calc_rouge_mean(name_of_files_calc_2, list_of_files_calc_2)"
   ]
  },
  {
   "cell_type": "code",
   "execution_count": 49,
   "id": "fa5b0599",
   "metadata": {
    "scrolled": false
   },
   "outputs": [],
   "source": [
    "# best_rouge_1000_mean = calc_rouge_mean(name_of_files_1000, list_of_files_1000, suf=9)\n",
    "# best_rouge_muse_mean = calc_rouge_mean(name_of_files_muse, list_of_files_muse, suf=9)"
   ]
  },
  {
   "cell_type": "code",
   "execution_count": 50,
   "id": "c7e40c9c",
   "metadata": {
    "scrolled": true
   },
   "outputs": [
    {
     "data": {
      "application/vnd.jupyter.widget-view+json": {
       "model_id": "b56092413d7049638d561a7a9ce67fd9",
       "version_major": 2,
       "version_minor": 0
      },
      "text/plain": [
       "  0%|          | 0/363 [00:00<?, ?it/s]"
      ]
     },
     "metadata": {},
     "output_type": "display_data"
    }
   ],
   "source": [
    "write_best_2_txt()"
   ]
  },
  {
   "cell_type": "code",
   "execution_count": 52,
   "id": "66c8a46c",
   "metadata": {},
   "outputs": [],
   "source": [
    "# name_of_files_calc_fin, list_of_files_calc_fin = read_files(r\"C:\\Users\\RedmiBook\\Documents\\SCE\\proj\\datasets\\calculated\\npz_2_parts\\txt_final\")\n",
    "# best_rouge_calc_mean_fin = calc_rouge_mean(name_of_files_calc_fin, list_of_files_calc_fin)\n"
   ]
  },
  {
   "cell_type": "code",
   "execution_count": 66,
   "id": "2508252e",
   "metadata": {
    "scrolled": false
   },
   "outputs": [
    {
     "data": {
      "text/html": [
       "<div>\n",
       "<style scoped>\n",
       "    .dataframe tbody tr th:only-of-type {\n",
       "        vertical-align: middle;\n",
       "    }\n",
       "\n",
       "    .dataframe tbody tr th {\n",
       "        vertical-align: top;\n",
       "    }\n",
       "\n",
       "    .dataframe thead th {\n",
       "        text-align: right;\n",
       "    }\n",
       "</style>\n",
       "<table border=\"1\" class=\"dataframe\">\n",
       "  <thead>\n",
       "    <tr style=\"text-align: right;\">\n",
       "      <th></th>\n",
       "      <th>calc_1</th>\n",
       "      <th>calc_2</th>\n",
       "      <th>calc_fin</th>\n",
       "      <th>top-1000</th>\n",
       "      <th>muse</th>\n",
       "      <th>calc_1_NUM_PROPN</th>\n",
       "      <th>calc_2_NUM_PROPN</th>\n",
       "      <th>calc_best_NUM</th>\n",
       "    </tr>\n",
       "  </thead>\n",
       "  <tbody>\n",
       "    <tr>\n",
       "      <th>0</th>\n",
       "      <td>0.393375</td>\n",
       "      <td>0.303933</td>\n",
       "      <td>0.349370</td>\n",
       "      <td>0.534894</td>\n",
       "      <td>0.456453</td>\n",
       "      <td>0.369840</td>\n",
       "      <td>0.302338</td>\n",
       "      <td>0.342805</td>\n",
       "    </tr>\n",
       "    <tr>\n",
       "      <th>1</th>\n",
       "      <td>0.403178</td>\n",
       "      <td>0.329488</td>\n",
       "      <td>0.367413</td>\n",
       "      <td>0.374408</td>\n",
       "      <td>0.408530</td>\n",
       "      <td>0.363726</td>\n",
       "      <td>0.318622</td>\n",
       "      <td>0.355753</td>\n",
       "    </tr>\n",
       "    <tr>\n",
       "      <th>2</th>\n",
       "      <td>0.361987</td>\n",
       "      <td>0.286512</td>\n",
       "      <td>0.325019</td>\n",
       "      <td>0.399157</td>\n",
       "      <td>0.391644</td>\n",
       "      <td>0.328316</td>\n",
       "      <td>0.277918</td>\n",
       "      <td>0.311051</td>\n",
       "    </tr>\n",
       "    <tr>\n",
       "      <th>3</th>\n",
       "      <td>0.231007</td>\n",
       "      <td>0.115975</td>\n",
       "      <td>0.173686</td>\n",
       "      <td>0.398208</td>\n",
       "      <td>0.288377</td>\n",
       "      <td>0.201997</td>\n",
       "      <td>0.110604</td>\n",
       "      <td>0.175218</td>\n",
       "    </tr>\n",
       "    <tr>\n",
       "      <th>4</th>\n",
       "      <td>0.229855</td>\n",
       "      <td>0.144012</td>\n",
       "      <td>0.187328</td>\n",
       "      <td>0.225484</td>\n",
       "      <td>0.248800</td>\n",
       "      <td>0.185878</td>\n",
       "      <td>0.134464</td>\n",
       "      <td>0.174536</td>\n",
       "    </tr>\n",
       "    <tr>\n",
       "      <th>5</th>\n",
       "      <td>0.203098</td>\n",
       "      <td>0.112294</td>\n",
       "      <td>0.157917</td>\n",
       "      <td>0.255004</td>\n",
       "      <td>0.234891</td>\n",
       "      <td>0.165917</td>\n",
       "      <td>0.102338</td>\n",
       "      <td>0.148380</td>\n",
       "    </tr>\n",
       "    <tr>\n",
       "      <th>6</th>\n",
       "      <td>0.371458</td>\n",
       "      <td>0.276123</td>\n",
       "      <td>0.324953</td>\n",
       "      <td>0.516190</td>\n",
       "      <td>0.436119</td>\n",
       "      <td>0.351751</td>\n",
       "      <td>0.278267</td>\n",
       "      <td>0.324597</td>\n",
       "    </tr>\n",
       "    <tr>\n",
       "      <th>7</th>\n",
       "      <td>0.380000</td>\n",
       "      <td>0.301894</td>\n",
       "      <td>0.342461</td>\n",
       "      <td>0.354901</td>\n",
       "      <td>0.388336</td>\n",
       "      <td>0.342768</td>\n",
       "      <td>0.295549</td>\n",
       "      <td>0.334579</td>\n",
       "    </tr>\n",
       "    <tr>\n",
       "      <th>8</th>\n",
       "      <td>0.341309</td>\n",
       "      <td>0.260873</td>\n",
       "      <td>0.302328</td>\n",
       "      <td>0.381251</td>\n",
       "      <td>0.373106</td>\n",
       "      <td>0.310560</td>\n",
       "      <td>0.256204</td>\n",
       "      <td>0.293215</td>\n",
       "    </tr>\n",
       "  </tbody>\n",
       "</table>\n",
       "</div>"
      ],
      "text/plain": [
       "     calc_1    calc_2  calc_fin  top-1000      muse  calc_1_NUM_PROPN  \\\n",
       "0  0.393375  0.303933  0.349370  0.534894  0.456453          0.369840   \n",
       "1  0.403178  0.329488  0.367413  0.374408  0.408530          0.363726   \n",
       "2  0.361987  0.286512  0.325019  0.399157  0.391644          0.328316   \n",
       "3  0.231007  0.115975  0.173686  0.398208  0.288377          0.201997   \n",
       "4  0.229855  0.144012  0.187328  0.225484  0.248800          0.185878   \n",
       "5  0.203098  0.112294  0.157917  0.255004  0.234891          0.165917   \n",
       "6  0.371458  0.276123  0.324953  0.516190  0.436119          0.351751   \n",
       "7  0.380000  0.301894  0.342461  0.354901  0.388336          0.342768   \n",
       "8  0.341309  0.260873  0.302328  0.381251  0.373106          0.310560   \n",
       "\n",
       "   calc_2_NUM_PROPN  calc_best_NUM  \n",
       "0          0.302338       0.342805  \n",
       "1          0.318622       0.355753  \n",
       "2          0.277918       0.311051  \n",
       "3          0.110604       0.175218  \n",
       "4          0.134464       0.174536  \n",
       "5          0.102338       0.148380  \n",
       "6          0.278267       0.324597  \n",
       "7          0.295549       0.334579  \n",
       "8          0.256204       0.293215  "
      ]
     },
     "execution_count": 66,
     "metadata": {},
     "output_type": "execute_result"
    }
   ],
   "source": [
    "rouge_calc_before = pd.read_csv(r\"C:\\Users\\RedmiBook\\Documents\\SCE\\proj\\datasets\\calculated\\tabel of results.csv\", index_col=False)\n",
    "rouge_calc_after = rouge_calc_before.assign(calc_1_NUM_PROPN = list(best_rouge_calc_mean_1.mean()), calc_2_NUM_PROPN=list(best_rouge_calc_mean_2.mean()), calc_best_NUM=list(best_rouge_calc_mean_best.mean()))#, columns=['Unnamed: 0','Unnamed: 1'])\n",
    "rouge_calc_after"
   ]
  },
  {
   "cell_type": "code",
   "execution_count": 67,
   "id": "e906dcc0",
   "metadata": {},
   "outputs": [],
   "source": [
    "rouge_calc_after.to_csv(r\"C:\\Users\\RedmiBook\\Documents\\SCE\\proj\\datasets\\calculated\\tabel of results NUM_PROPN 15per.csv\", index=False)"
   ]
  },
  {
   "cell_type": "code",
   "execution_count": null,
   "id": "cdd1e037",
   "metadata": {},
   "outputs": [],
   "source": []
  }
 ],
 "metadata": {
  "kernelspec": {
   "display_name": "Python 3 (ipykernel)",
   "language": "python",
   "name": "python3"
  },
  "language_info": {
   "codemirror_mode": {
    "name": "ipython",
    "version": 3
   },
   "file_extension": ".py",
   "mimetype": "text/x-python",
   "name": "python",
   "nbconvert_exporter": "python",
   "pygments_lexer": "ipython3",
   "version": "3.9.7"
  }
 },
 "nbformat": 4,
 "nbformat_minor": 5
}
