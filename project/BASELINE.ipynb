{
 "cells": [
  {
   "cell_type": "code",
   "execution_count": null,
   "id": "08024410",
   "metadata": {},
   "outputs": [],
   "source": [
    "# without masking and weighting 10% div on 2 parts"
   ]
  },
  {
   "cell_type": "code",
   "execution_count": 1,
   "id": "873cd229",
   "metadata": {},
   "outputs": [],
   "source": [
    "import re\n",
    "import nltk\n",
    "import numpy as np\n",
    "import matplotlib.pyplot as plt\n",
    "import scipy\n",
    "import scipy.sparse as sp\n",
    "import pandas as pd\n",
    "import tokenize\n",
    "\n",
    "from io import StringIO \n",
    "from nltk.tokenize import word_tokenize\n",
    "from tqdm.notebook import tqdm\n",
    "from os import listdir\n",
    "from os.path import isfile, join\n",
    "from rouge_score import rouge_scorer\n",
    "from rouge import Rouge \n",
    "\n",
    "rouge = Rouge()\n",
    "\n",
    "scorer = rouge_scorer.RougeScorer(['rouge1', 'rouge2', 'rougeL'])"
   ]
  },
  {
   "cell_type": "code",
   "execution_count": 2,
   "id": "a4164b64",
   "metadata": {},
   "outputs": [],
   "source": [
    "val_preproc_dir = r\"C:\\Users\\RedmiBook\\Documents\\SCE\\proj\\datasets\\2021val_annual_reports_prepr-20220901T133401Z-001\\2021val_annual_reports_prepr\"\n",
    "name_of_files = [f for f in listdir(val_preproc_dir) \n",
    "             if isfile(join(val_preproc_dir, f))]\n",
    "list_of_files = []\n",
    "for file_name in name_of_files:\n",
    "    list_of_files.append(open(val_preproc_dir + \"\\\\\" + file_name, \"r\").read())"
   ]
  },
  {
   "cell_type": "code",
   "execution_count": 3,
   "id": "52946129",
   "metadata": {},
   "outputs": [],
   "source": [
    "half_perc, perc = 0.05, 0.10\n",
    "list_of_files_1 = [file[:int(len(file) * half_perc)] for file in list_of_files] \n",
    "list_of_files_2 = [file[int(len(file) * half_perc):int(len(file) * perc)] for file in list_of_files]"
   ]
  },
  {
   "cell_type": "code",
   "execution_count": 4,
   "id": "09c919f3",
   "metadata": {},
   "outputs": [],
   "source": [
    "def token(txt_splited):\n",
    "    res_finish = []\n",
    "    for text in tqdm(txt_splited):\n",
    "        res_txt = []\n",
    "        for paragraph in text:\n",
    "            res_par = ''\n",
    "            for token in tokenize.generate_tokens(StringIO(paragraph).readline):\n",
    "                if token.type == 1:\n",
    "                    res_par += token.string.lower() + ' '\n",
    "            res_txt.append(res_par)\n",
    "        res_finish.append(res_txt)\n",
    "        \n",
    "    return res_finish"
   ]
  },
  {
   "cell_type": "code",
   "execution_count": 5,
   "id": "0f3d1637",
   "metadata": {},
   "outputs": [
    {
     "data": {
      "application/vnd.jupyter.widget-view+json": {
       "model_id": "b8b7aedc8ab24541bf7bedda0219ec04",
       "version_major": 2,
       "version_minor": 0
      },
      "text/plain": [
       "  0%|          | 0/363 [00:00<?, ?it/s]"
      ]
     },
     "metadata": {},
     "output_type": "display_data"
    },
    {
     "data": {
      "application/vnd.jupyter.widget-view+json": {
       "model_id": "c3cf339f9c664634863842a830d9c108",
       "version_major": 2,
       "version_minor": 0
      },
      "text/plain": [
       "  0%|          | 0/363 [00:00<?, ?it/s]"
      ]
     },
     "metadata": {},
     "output_type": "display_data"
    }
   ],
   "source": [
    "txt_splited_1, txt_splited_2 = [file_txt.split('\\n') for file_txt in list_of_files_1], [file_txt.split('\\n') for file_txt in list_of_files_2]\n",
    "txt_str_div_par_1, txt_str_div_par_2 = token(txt_splited_1), token(txt_splited_2)"
   ]
  },
  {
   "cell_type": "code",
   "execution_count": 6,
   "id": "d7cb968d",
   "metadata": {},
   "outputs": [],
   "source": [
    "def make_vocab(txt_str_div_par):\n",
    "    txt_str = txt_str_div_par.copy()\n",
    "    for i, txt in enumerate(txt_str_div_par):\n",
    "        txt_str[i] = ''.join(txt)\n",
    "\n",
    "    vocab_list = []\n",
    "    for i, txt in enumerate(txt_str):\n",
    "        vocab = list(re.split(' \\n| ', txt))\n",
    "\n",
    "        if '' in set(vocab):\n",
    "            vocab.remove(\"\")\n",
    "        vocab_list.append(list(set(vocab)))\n",
    "    return vocab_list, txt_str"
   ]
  },
  {
   "cell_type": "code",
   "execution_count": 7,
   "id": "518b238f",
   "metadata": {},
   "outputs": [],
   "source": [
    "vocab_list_1, txt_str_1 = make_vocab(txt_str_div_par_1)\n",
    "vocab_list_2, txt_str_2 = make_vocab(txt_str_div_par_2)"
   ]
  },
  {
   "cell_type": "code",
   "execution_count": 10,
   "id": "0e99f96a",
   "metadata": {},
   "outputs": [],
   "source": [
    "def list_of_words_max_len(txt_str):\n",
    "    list_of_words = [txt.split(' ') for txt in txt_str]\n",
    "    for i in range(len(list_of_words)):\n",
    "        list_of_words[i] = [w for w in list_of_words[i] if w]\n",
    "\n",
    "    len_words = [len(v) for v in list_of_words]\n",
    "    max_len_words = max(len_words)\n",
    "    return list_of_words, len_words, max_len_words"
   ]
  },
  {
   "cell_type": "code",
   "execution_count": 11,
   "id": "74c5007c",
   "metadata": {},
   "outputs": [],
   "source": [
    "list_of_words_1, len_words_1, max_len_words_1 = list_of_words_max_len(txt_str_1)\n",
    "list_of_words_2, len_words_2, max_len_words_2 = list_of_words_max_len(txt_str_2)"
   ]
  },
  {
   "cell_type": "code",
   "execution_count": 11,
   "id": "379fe23c",
   "metadata": {},
   "outputs": [],
   "source": [
    "def sparse_triangle_max(max_len_words, sig=25):    \n",
    "    S = sp.dok_array((max_len_words + 2 * sig, max_len_words + 2 * sig), dtype=np.float32)\n",
    "    res_f = [(1 - np.abs(i - sig) / sig) for i in range(1, sig * 2)]\n",
    "    for i in tqdm(range(sig, sig + max_len_words), total=max_len_words):\n",
    "        S[i, i-sig+1:i+sig] = res_f\n",
    "    return S"
   ]
  },
  {
   "cell_type": "code",
   "execution_count": 12,
   "id": "fe2c5de5",
   "metadata": {},
   "outputs": [],
   "source": [
    "def sparse_triangle_crop(S, size, sig=25):\n",
    "    return S[sig:sig + size, sig:sig + size]"
   ]
  },
  {
   "cell_type": "code",
   "execution_count": 13,
   "id": "66091d52",
   "metadata": {},
   "outputs": [],
   "source": [
    "def sparse_vocab(text, vocab):    \n",
    "    S = sp.dok_array((len(vocab), len(text)), dtype=np.float32)\n",
    "    v_to_i = {v:i for i, v in enumerate(vocab)}\n",
    "    for j, w in enumerate(text):\n",
    "        S[v_to_i[w], j] = 1\n",
    "    \n",
    "    return S"
   ]
  },
  {
   "cell_type": "code",
   "execution_count": 14,
   "id": "6abb86d3",
   "metadata": {},
   "outputs": [],
   "source": [
    "def matix_txt(S, text, vocab):\n",
    "    len_txt = len(text)\n",
    "\n",
    "    f_res = sparse_triangle_crop(S, len_txt) # l x l\n",
    "    c_vocab = sparse_vocab(text, vocab) # w x l\n",
    "\n",
    "    num = c_vocab.tocsr() @ f_res.tocsc() # w x l @ l x l = w x l\n",
    "    denum = (c_vocab.tocsr() @ f_res.tocsc()).tocsc().sum(axis=0) # w x l @ l x l = w x l sum axis0 = 1xl\n",
    "    \n",
    "    denum = sp.csc_matrix(1 / denum)\n",
    "\n",
    "    return num * denum"
   ]
  },
  {
   "cell_type": "code",
   "execution_count": 15,
   "id": "487af532",
   "metadata": {},
   "outputs": [],
   "source": [
    "def calculate_save_npz(list_of_words, S, vocab_list, name_of_files, dir_to_save):\n",
    "    for i in tqdm(range(len(list_of_words))):\n",
    "        matix_item = matix_txt(S, list_of_words[i], vocab_list[i])    \n",
    "        sp.save_npz(dir_to_save + name_of_files[i][:-4], matix_item)"
   ]
  },
  {
   "cell_type": "code",
   "execution_count": 13,
   "id": "05721b4b",
   "metadata": {},
   "outputs": [],
   "source": [
    "dir_res = r\"C:\\Users\\RedmiBook\\Documents\\SCE\\proj\\datasets\\calculated\\baseline\\\\\"\n",
    "\n",
    "S_1 = sparse_triangle_max(max_len_words_1)\n",
    "S_2 = sparse_triangle_max(max_len_words_2)\n",
    "\n",
    "calculate_save_npz(list_of_words_1, S_1, vocab_list_1, name_of_files, dir_to_save= dir_res + \"res_1\\\\\")\n",
    "calculate_save_npz(list_of_words_2, S_2, vocab_list_2, name_of_files, dir_to_save= dir_res + \"res_2\\\\\")"
   ]
  },
  {
   "cell_type": "code",
   "execution_count": 17,
   "id": "b07cd3ef",
   "metadata": {},
   "outputs": [],
   "source": [
    "def calculate_sum_of_art(txt_str_div_art, sum_arr_word, v_to_i):\n",
    "    article_weight, len_per_art = [], []\n",
    "    for article in txt_str_div_art:\n",
    "        split = [j for j in article.split(' ') if j]\n",
    "        len_art = len(split)\n",
    "        if len_art != 0:\n",
    "            par_split = 0\n",
    "            for par in split:\n",
    "                par_split += sum_arr_word[v_to_i[par]]\n",
    "            article_weight.append(float(par_split) / len_art)\n",
    "            len_per_art.append(len_art)\n",
    "        else:\n",
    "            article_weight.append(0)\n",
    "            len_per_art.append(0)\n",
    "            \n",
    "    return pd.DataFrame(list(zip(article_weight, len_per_art)), columns=['sum', 'len'])"
   ]
  },
  {
   "cell_type": "code",
   "execution_count": 18,
   "id": "a46531f8",
   "metadata": {},
   "outputs": [],
   "source": [
    "def top_art(res):\n",
    "    sorted_res = res.sort_values(by=['sum'], ascending=False)\n",
    "    sorted_res['index'] = sorted_res.index\n",
    "\n",
    "    i, len_txt = 0, 0\n",
    "    num_art = []\n",
    "    while i < len(sorted_res) and len_txt < 1000:\n",
    "        len_txt += sorted_res.iloc(0)[i]['len']\n",
    "        num_art.append(int(sorted_res.iloc(0)[i]['index'])) \n",
    "        i += 1\n",
    "    num_art.sort()\n",
    "    return num_art, int(len_txt)"
   ]
  },
  {
   "cell_type": "code",
   "execution_count": 19,
   "id": "5f6195cd",
   "metadata": {},
   "outputs": [],
   "source": [
    "def download_npz(name_of_files, vocab_list, txt_str_div_par, dir_to_upload):\n",
    "    art_sum = []\n",
    "    for i_t, text_name in tqdm(enumerate(name_of_files), total=len(name_of_files)):\n",
    "\n",
    "        #calculate best articles in txt based on matrix\n",
    "        sum_arr_word = sp.load_npz(dir_to_upload + text_name[:-4] + \".npz\").sum(axis=1)\n",
    "        v_to_i = {v:i for i, v in enumerate(vocab_list[i_t])}\n",
    "        art_sum.append(calculate_sum_of_art(txt_str_div_par[i_t], sum_arr_word, v_to_i))\n",
    "    return art_sum"
   ]
  },
  {
   "cell_type": "code",
   "execution_count": 20,
   "id": "a95a3d5e",
   "metadata": {},
   "outputs": [
    {
     "data": {
      "application/vnd.jupyter.widget-view+json": {
       "model_id": "805ca254fa5342a7916d8947dedce7bd",
       "version_major": 2,
       "version_minor": 0
      },
      "text/plain": [
       "  0%|          | 0/363 [00:00<?, ?it/s]"
      ]
     },
     "metadata": {},
     "output_type": "display_data"
    },
    {
     "data": {
      "application/vnd.jupyter.widget-view+json": {
       "model_id": "9ebe3c88060f422c884722c3f37b0976",
       "version_major": 2,
       "version_minor": 0
      },
      "text/plain": [
       "  0%|          | 0/363 [00:00<?, ?it/s]"
      ]
     },
     "metadata": {},
     "output_type": "display_data"
    }
   ],
   "source": [
    "art_sum_1 = download_npz(name_of_files, vocab_list_1, txt_str_div_par_1, dir_to_upload=dir_res + \"res_1\\\\\")\n",
    "art_sum_2 = download_npz(name_of_files, vocab_list_2, txt_str_div_par_2, dir_to_upload=dir_res + \"res_2\\\\\")"
   ]
  },
  {
   "cell_type": "code",
   "execution_count": 21,
   "id": "11ff97f4",
   "metadata": {},
   "outputs": [],
   "source": [
    "def choose_best_txt_from2(art_sum_1, art_sum_2):\n",
    "    res_id_list = []\n",
    "    for art in tqdm(range(len(art_sum_1))):\n",
    "        res_id_list.append(np.argmax([sum([art_sum_1[art]['sum'][i] for i in top_art(art_sum_1[art])[0]]), \n",
    "                                      sum([art_sum_2[art]['sum'][i] for i in top_art(art_sum_2[art])[0]])]))\n",
    "    return res_id_list            "
   ]
  },
  {
   "cell_type": "code",
   "execution_count": 22,
   "id": "793942a9",
   "metadata": {},
   "outputs": [
    {
     "data": {
      "application/vnd.jupyter.widget-view+json": {
       "model_id": "460b8bc96fdf4c519e18ad5515890f42",
       "version_major": 2,
       "version_minor": 0
      },
      "text/plain": [
       "  0%|          | 0/363 [00:00<?, ?it/s]"
      ]
     },
     "metadata": {},
     "output_type": "display_data"
    }
   ],
   "source": [
    "res_id_list = choose_best_txt_from2(art_sum_1, art_sum_2)"
   ]
  },
  {
   "cell_type": "code",
   "execution_count": 39,
   "id": "f5089fe4",
   "metadata": {},
   "outputs": [],
   "source": [
    "def write_best_2_txt(dir_res=dir_res, name_of_files=name_of_files, art_sum=[art_sum_1, art_sum_2], txt_splited=[txt_splited_1, txt_splited_2], res_id_list=res_id_list):\n",
    "    for i_t, text_name in tqdm(enumerate(name_of_files), total=len(name_of_files)):\n",
    "    \n",
    "        #calculate best articles in txt based on matrix for 2 txt\n",
    "        list_art_1, _ = top_art(art_sum[0][i_t])\n",
    "        list_art_2, _ = top_art(art_sum[1][i_t])\n",
    "\n",
    "        #write results to txt\n",
    "        txt_1, txt_2 = '', ''\n",
    "        for i_1, i_2 in zip(list_art_1, list_art_2):\n",
    "            txt_1 += txt_splited[0][i_t][i_1] + '\\n'\n",
    "            txt_2 += txt_splited[1][i_t][i_2] + '\\n'\n",
    "       \n",
    "        with open(dir_res + \"txt_best\\\\\" + text_name, 'w') as f:\n",
    "            f.write([txt_1, txt_2][res_id_list[i_t]])\n",
    "        \n",
    "        with open(dir_res + \"txt_1\\\\\" + text_name, 'w') as f:\n",
    "            f.write(txt_1)        \n",
    "        with open(dir_res + \"txt_2\\\\\" + text_name, 'w') as f:\n",
    "            f.write(txt_2)"
   ]
  },
  {
   "cell_type": "code",
   "execution_count": 40,
   "id": "f6837cdf",
   "metadata": {},
   "outputs": [
    {
     "data": {
      "application/vnd.jupyter.widget-view+json": {
       "model_id": "5976c4d0501545ddb8f1de23ca3dbd38",
       "version_major": 2,
       "version_minor": 0
      },
      "text/plain": [
       "  0%|          | 0/363 [00:00<?, ?it/s]"
      ]
     },
     "metadata": {},
     "output_type": "display_data"
    }
   ],
   "source": [
    "write_best_2_txt()"
   ]
  },
  {
   "cell_type": "code",
   "execution_count": 8,
   "id": "047cbd27",
   "metadata": {},
   "outputs": [],
   "source": [
    "def read_files(val_dir, encod='utf-8'):\n",
    "    name_of_files = [f for f in listdir(val_dir) \n",
    "                 if isfile(join(val_dir, f))]\n",
    "    list_of_files = []\n",
    "    for file_name in name_of_files:        \n",
    "        list_of_files.append(open(val_dir + \"\\\\\" + file_name, \"r\", encoding=encod).read())\n",
    "    return name_of_files, list_of_files"
   ]
  },
  {
   "cell_type": "code",
   "execution_count": 19,
   "id": "4aad7b92",
   "metadata": {},
   "outputs": [],
   "source": [
    "dir_gold = r\"C:\\Users\\RedmiBook\\Documents\\SCE\\proj\\datasets\\fns2020_dataset_clean\\validation\\gold_summaries\"\n",
    "dir_res = r\"C:\\Users\\RedmiBook\\Documents\\SCE\\proj\\datasets\\calculated\\baseline\\\\\"\n",
    "\n",
    "name_of_files_gold, list_of_files_gold = read_files(dir_gold)\n",
    "# name_of_files_calc_1, list_of_files_calc_1 = read_files(dir_res + \"txt_1\")\n",
    "# name_of_files_calc_2, list_of_files_calc_2 = read_files(dir_res + \"txt_2\")\n",
    "name_of_files_calc_best, list_of_files_calc_best = read_files(dir_res + \"txt_best\")"
   ]
  },
  {
   "cell_type": "code",
   "execution_count": null,
   "id": "8fbffa7a",
   "metadata": {},
   "outputs": [],
   "source": [
    "def calc_rouge_mean(name_of_files, list_of_files, name_of_files_gold=name_of_files_gold, list_of_files_gold=list_of_files_gold, suf=4, cut=True):\n",
    "    j = 0\n",
    "    df_scores = pd.DataFrame(columns = [\"rouge-1, r\", \"rouge-1, p\", \"rouge-1, f\", \n",
    "                                        \"rouge-2, r\", \"rouge-2, p\", \"rouge-2, f\", \n",
    "                                        \"rouge-l, r\", \"rouge-l, p\", \"rouge-l, f\"])\n",
    "    lst_contrl = []\n",
    "    for i in tqdm(range(len(name_of_files)), total=len(name_of_files)):\n",
    "        scores = []\n",
    "\n",
    "        while j < len(name_of_files_gold) and name_of_files_gold[j][:-6] != name_of_files[i][:-suf]:\n",
    "            j += 1\n",
    "        while j < len(name_of_files_gold) and name_of_files_gold[j][:-6] == name_of_files[i][:-suf]:\n",
    "            if cut == True:\n",
    "                list_of_files[i] = ' '.join(list_of_files[i].split(' ')[:1000])            \n",
    "            scores.append(rouge.get_scores(list_of_files[i], list_of_files_gold[j])[0])\n",
    "            j += 1\n",
    "#         print(scores)\n",
    "        if scores != []:\n",
    "            res_arr = np.zeros((len(scores), 9))\n",
    "            for i in range(len(scores)):\n",
    "                lst_i = list(scores[i].items())\n",
    "                \n",
    "                res_arr[i] = [list(lst_i[0][1].items())[0][1],\n",
    "                              list(lst_i[0][1].items())[1][1],\n",
    "                              list(lst_i[0][1].items())[2][1], \n",
    "                              list(lst_i[1][1].items())[0][1],\n",
    "                              list(lst_i[1][1].items())[1][1],\n",
    "                              list(lst_i[1][1].items())[2][1],\n",
    "                              list(lst_i[2][1].items())[0][1],\n",
    "                              list(lst_i[2][1].items())[1][1],\n",
    "                              list(lst_i[2][1].items())[2][1]]\n",
    "#                 print(res_arr[i])\n",
    "                lst_contrl.append(res_arr[i])\n",
    "    df_scores.loc[len(df_scores)] = res_arr.mean(axis=0)\n",
    "        \n",
    "    return df_scores, lst_contrl"
   ]
  },
  {
   "cell_type": "code",
   "execution_count": 43,
   "id": "7f09519f",
   "metadata": {
    "scrolled": true
   },
   "outputs": [
    {
     "data": {
      "application/vnd.jupyter.widget-view+json": {
       "model_id": "f51dd5e1da6240f8bbb6b31d96d6b68f",
       "version_major": 2,
       "version_minor": 0
      },
      "text/plain": [
       "  0%|          | 0/363 [00:00<?, ?it/s]"
      ]
     },
     "metadata": {},
     "output_type": "display_data"
    },
    {
     "data": {
      "text/html": [
       "<div>\n",
       "<style scoped>\n",
       "    .dataframe tbody tr th:only-of-type {\n",
       "        vertical-align: middle;\n",
       "    }\n",
       "\n",
       "    .dataframe tbody tr th {\n",
       "        vertical-align: top;\n",
       "    }\n",
       "\n",
       "    .dataframe thead th {\n",
       "        text-align: right;\n",
       "    }\n",
       "</style>\n",
       "<table border=\"1\" class=\"dataframe\">\n",
       "  <thead>\n",
       "    <tr style=\"text-align: right;\">\n",
       "      <th></th>\n",
       "      <th>rouge-1, r</th>\n",
       "      <th>rouge-1, p</th>\n",
       "      <th>rouge-1, f</th>\n",
       "      <th>rouge-2, r</th>\n",
       "      <th>rouge-2, p</th>\n",
       "      <th>rouge-2, f</th>\n",
       "      <th>rouge-l, r</th>\n",
       "      <th>rouge-l, p</th>\n",
       "      <th>rouge-l, f</th>\n",
       "    </tr>\n",
       "  </thead>\n",
       "  <tbody>\n",
       "    <tr>\n",
       "      <th>0</th>\n",
       "      <td>0.187315</td>\n",
       "      <td>0.310855</td>\n",
       "      <td>0.191234</td>\n",
       "      <td>0.057716</td>\n",
       "      <td>0.186086</td>\n",
       "      <td>0.07218</td>\n",
       "      <td>0.175655</td>\n",
       "      <td>0.299342</td>\n",
       "      <td>0.181264</td>\n",
       "    </tr>\n",
       "  </tbody>\n",
       "</table>\n",
       "</div>"
      ],
      "text/plain": [
       "   rouge-1, r  rouge-1, p  rouge-1, f  rouge-2, r  rouge-2, p  rouge-2, f  \\\n",
       "0    0.187315    0.310855    0.191234    0.057716    0.186086     0.07218   \n",
       "\n",
       "   rouge-l, r  rouge-l, p  rouge-l, f  \n",
       "0    0.175655    0.299342    0.181264  "
      ]
     },
     "execution_count": 43,
     "metadata": {},
     "output_type": "execute_result"
    }
   ],
   "source": [
    "best_rouge_calc_mean_best = calc_rouge_mean(name_of_files_calc_best, list_of_files_calc_best)"
   ]
  },
  {
   "cell_type": "code",
   "execution_count": 123,
   "id": "72e32d0a",
   "metadata": {},
   "outputs": [
    {
     "data": {
      "text/plain": [
       "Text(0.5, 1.0, 'rouge l')"
      ]
     },
     "execution_count": 123,
     "metadata": {},
     "output_type": "execute_result"
    },
    {
     "data": {
      "image/png": "[encoded data removed]",
      "text/plain": [
       "<Figure size 1080x360 with 3 Axes>"
      ]
     },
     "metadata": {
      "needs_background": "light"
     },
     "output_type": "display_data"
    }
   ],
   "source": [
    "fig, axs = plt.subplots(1, 3, figsize=(15, 5))\n",
    "axs[0].hist([list(df_tmp.iloc(1)[0]), list(df_tmp.iloc(1)[1]), list(df_tmp.iloc(1)[2])], label=['r', 'p', 'f1']);\n",
    "axs[0].legend()\n",
    "axs[0].set_title('rouge 1')\n",
    "axs[1].hist([list(df_tmp.iloc(1)[3]), list(df_tmp.iloc(1)[4]), list(df_tmp.iloc(1)[5])], label=['r', 'p', 'f1']);\n",
    "axs[1].legend()\n",
    "axs[1].set_title('rouge 2')\n",
    "axs[2].hist([list(df_tmp.iloc(1)[6]), list(df_tmp.iloc(1)[7]), list(df_tmp.iloc(1)[8])], label=['r', 'p', 'f1']);\n",
    "axs[2].legend()\n",
    "axs[2].set_title('rouge l')"
   ]
  },
  {
   "cell_type": "code",
   "execution_count": 25,
   "id": "ad81df7e",
   "metadata": {},
   "outputs": [
    {
     "data": {
      "application/vnd.jupyter.widget-view+json": {
       "model_id": "46c1b6cf3266488fb0f503bfd84b19d0",
       "version_major": 2,
       "version_minor": 0
      },
      "text/plain": [
       "  0%|          | 0/363 [00:00<?, ?it/s]"
      ]
     },
     "metadata": {},
     "output_type": "display_data"
    },
    {
     "data": {
      "application/vnd.jupyter.widget-view+json": {
       "model_id": "6a86d1c4d6924079bd7d2b3026c54416",
       "version_major": 2,
       "version_minor": 0
      },
      "text/plain": [
       "  0%|          | 0/363 [00:00<?, ?it/s]"
      ]
     },
     "metadata": {},
     "output_type": "display_data"
    }
   ],
   "source": [
    "best_rouge_calc_mean_1 = calc_rouge_mean(name_of_files_calc_1, list_of_files_calc_1)\n",
    "best_rouge_calc_mean_2 = calc_rouge_mean(name_of_files_calc_2, list_of_files_calc_2)"
   ]
  },
  {
   "cell_type": "code",
   "execution_count": 11,
   "id": "eaf0882f",
   "metadata": {},
   "outputs": [],
   "source": [
    "val_res_dir = r\"C:\\Users\\RedmiBook\\Documents\\SCE\\proj\\datasets\\calculated\\baseline\\txt_best\"\n",
    "val_gold_dir = r\"C:\\Users\\RedmiBook\\Documents\\SCE\\proj\\datasets\\fns2020_dataset_clean\\validation\\gold_summaries\"\n",
    "val_top_dir = r\"C:\\Users\\RedmiBook\\Documents\\SCE\\proj\\datasets\\top1000-summaries\"\n",
    "val_muse_dir = r\"C:\\Users\\RedmiBook\\Documents\\SCE\\proj\\datasets\\validation-muse-1000\""
   ]
  },
  {
   "cell_type": "code",
   "execution_count": 12,
   "id": "ccd47d7f",
   "metadata": {},
   "outputs": [],
   "source": [
    "name_of_files_1000, list_of_files_1000 = read_files(val_top_dir)\n",
    "name_of_files_muse, list_of_files_muse = read_files(val_muse_dir)\n",
    "name_of_files_gold, list_of_files_gold = read_files(val_gold_dir)\n",
    "name_of_files_calc, list_of_files_calc = read_files(val_res_dir)   "
   ]
  },
  {
   "cell_type": "code",
   "execution_count": 13,
   "id": "0cecac2e",
   "metadata": {
    "scrolled": true
   },
   "outputs": [],
   "source": [
    "def calc_rouge_mean(name_of_files, name_of_files_gold, list_of_files, list_of_files_gold, suf=4, cut=True):\n",
    "    j = 0\n",
    "    df_scores = pd.DataFrame(columns = [\"rouge-1, r\", \"rouge-1, p\", \"rouge-1, f\", \n",
    "                                        \"rouge-2, r\", \"rouge-2, p\", \"rouge-2, f\", \n",
    "                                        \"rouge-l, r\", \"rouge-l, p\", \"rouge-l, f\"])\n",
    "\n",
    "    for i in tqdm(range(len(name_of_files)), total=len(name_of_files)):\n",
    "        scores = []\n",
    "\n",
    "        while j < len(name_of_files_gold) and name_of_files_gold[j][:-6] != name_of_files[i][:-suf]:\n",
    "            j += 1\n",
    "        while j < len(name_of_files_gold) and name_of_files_gold[j][:-6] == name_of_files[i][:-suf]:\n",
    "            if cut == True:\n",
    "                list_of_files[i] = ' '.join(list_of_files[i].split(' ')[:1000])            \n",
    "            scores.append(rouge.get_scores(list_of_files[i], list_of_files_gold[j])[0])\n",
    "            j += 1\n",
    "#         print(scores)\n",
    "        if scores != []:\n",
    "            res_arr = np.zeros((len(scores), 9))\n",
    "            for i in range(len(scores)):\n",
    "                lst_i = list(scores[i].items())\n",
    "                \n",
    "                res_arr[i] = [list(lst_i[0][1].items())[0][1],\n",
    "                              list(lst_i[0][1].items())[1][1],\n",
    "                              list(lst_i[0][1].items())[2][1], \n",
    "                              list(lst_i[1][1].items())[0][1],\n",
    "                              list(lst_i[1][1].items())[1][1],\n",
    "                              list(lst_i[1][1].items())[2][1],\n",
    "                              list(lst_i[2][1].items())[0][1],\n",
    "                              list(lst_i[2][1].items())[1][1],\n",
    "                              list(lst_i[2][1].items())[2][1]]\n",
    "#                 print(res_arr[i])\n",
    "            df_scores.loc[len(df_scores)] = res_arr.mean(axis=0)\n",
    "        \n",
    "    return df_scores"
   ]
  },
  {
   "cell_type": "code",
   "execution_count": 14,
   "id": "fac98520",
   "metadata": {},
   "outputs": [
    {
     "data": {
      "application/vnd.jupyter.widget-view+json": {
       "model_id": "010e6343767344a0aa1ca7e6038d997a",
       "version_major": 2,
       "version_minor": 0
      },
      "text/plain": [
       "  0%|          | 0/363 [00:00<?, ?it/s]"
      ]
     },
     "metadata": {},
     "output_type": "display_data"
    },
    {
     "data": {
      "application/vnd.jupyter.widget-view+json": {
       "model_id": "eedd18032692494f9995e9818b72fc25",
       "version_major": 2,
       "version_minor": 0
      },
      "text/plain": [
       "  0%|          | 0/354 [00:00<?, ?it/s]"
      ]
     },
     "metadata": {},
     "output_type": "display_data"
    }
   ],
   "source": [
    "best_rouge_1000_mean = calc_rouge_mean(name_of_files_1000, name_of_files_gold, list_of_files_1000, list_of_files_gold, suf=9)\n",
    "best_rouge_muse_mean = calc_rouge_mean(name_of_files_muse, name_of_files_gold, list_of_files_muse, list_of_files_gold, suf=9)"
   ]
  },
  {
   "cell_type": "code",
   "execution_count": 21,
   "id": "ade418aa",
   "metadata": {},
   "outputs": [
    {
     "data": {
      "application/vnd.jupyter.widget-view+json": {
       "model_id": "25dd623b764a45789621750dc9cfebc7",
       "version_major": 2,
       "version_minor": 0
      },
      "text/plain": [
       "  0%|          | 0/363 [00:00<?, ?it/s]"
      ]
     },
     "metadata": {},
     "output_type": "display_data"
    }
   ],
   "source": [
    "best_rouge_calc_mean_best = calc_rouge_mean(name_of_files_calc_best, name_of_files_gold, list_of_files_calc_best, list_of_files_gold)"
   ]
  },
  {
   "cell_type": "code",
   "execution_count": 24,
   "id": "21021aa3",
   "metadata": {},
   "outputs": [],
   "source": [
    "names = [\n",
    "    np.array([\"rouge1\", \"rouge1\", \"rouge1\", \"rouge2\", \"rouge2\", \"rouge2\", \"rougel\", \"rougel\", \"rougel\"]),\n",
    "    np.array([\"r\", \"p\", \"f1\", \"r\", \"p\", \"f1\", \"r\", \"p\", \"f1\"]),\n",
    "    ]"
   ]
  },
  {
   "cell_type": "code",
   "execution_count": 25,
   "id": "c04d5521",
   "metadata": {
    "scrolled": true
   },
   "outputs": [
    {
     "data": {
      "text/html": [
       "<div>\n",
       "<style scoped>\n",
       "    .dataframe tbody tr th:only-of-type {\n",
       "        vertical-align: middle;\n",
       "    }\n",
       "\n",
       "    .dataframe tbody tr th {\n",
       "        vertical-align: top;\n",
       "    }\n",
       "\n",
       "    .dataframe thead th {\n",
       "        text-align: right;\n",
       "    }\n",
       "</style>\n",
       "<table border=\"1\" class=\"dataframe\">\n",
       "  <thead>\n",
       "    <tr style=\"text-align: right;\">\n",
       "      <th></th>\n",
       "      <th></th>\n",
       "      <th>calc</th>\n",
       "      <th>top-1000</th>\n",
       "      <th>muse</th>\n",
       "    </tr>\n",
       "  </thead>\n",
       "  <tbody>\n",
       "    <tr>\n",
       "      <th rowspan=\"3\" valign=\"top\">rouge1</th>\n",
       "      <th>r</th>\n",
       "      <td>0.378317</td>\n",
       "      <td>0.534894</td>\n",
       "      <td>0.456453</td>\n",
       "    </tr>\n",
       "    <tr>\n",
       "      <th>p</th>\n",
       "      <td>0.384531</td>\n",
       "      <td>0.374408</td>\n",
       "      <td>0.408530</td>\n",
       "    </tr>\n",
       "    <tr>\n",
       "      <th>f1</th>\n",
       "      <td>0.343951</td>\n",
       "      <td>0.399157</td>\n",
       "      <td>0.391644</td>\n",
       "    </tr>\n",
       "    <tr>\n",
       "      <th rowspan=\"3\" valign=\"top\">rouge2</th>\n",
       "      <th>r</th>\n",
       "      <td>0.199069</td>\n",
       "      <td>0.398208</td>\n",
       "      <td>0.288377</td>\n",
       "    </tr>\n",
       "    <tr>\n",
       "      <th>p</th>\n",
       "      <td>0.199990</td>\n",
       "      <td>0.225484</td>\n",
       "      <td>0.248800</td>\n",
       "    </tr>\n",
       "    <tr>\n",
       "      <th>f1</th>\n",
       "      <td>0.172410</td>\n",
       "      <td>0.255004</td>\n",
       "      <td>0.234891</td>\n",
       "    </tr>\n",
       "    <tr>\n",
       "      <th rowspan=\"3\" valign=\"top\">rougel</th>\n",
       "      <th>r</th>\n",
       "      <td>0.356737</td>\n",
       "      <td>0.516190</td>\n",
       "      <td>0.436119</td>\n",
       "    </tr>\n",
       "    <tr>\n",
       "      <th>p</th>\n",
       "      <td>0.360554</td>\n",
       "      <td>0.354901</td>\n",
       "      <td>0.388336</td>\n",
       "    </tr>\n",
       "    <tr>\n",
       "      <th>f1</th>\n",
       "      <td>0.323106</td>\n",
       "      <td>0.381251</td>\n",
       "      <td>0.373106</td>\n",
       "    </tr>\n",
       "  </tbody>\n",
       "</table>\n",
       "</div>"
      ],
      "text/plain": [
       "               calc  top-1000      muse\n",
       "rouge1 r   0.378317  0.534894  0.456453\n",
       "       p   0.384531  0.374408  0.408530\n",
       "       f1  0.343951  0.399157  0.391644\n",
       "rouge2 r   0.199069  0.398208  0.288377\n",
       "       p   0.199990  0.225484  0.248800\n",
       "       f1  0.172410  0.255004  0.234891\n",
       "rougel r   0.356737  0.516190  0.436119\n",
       "       p   0.360554  0.354901  0.388336\n",
       "       f1  0.323106  0.381251  0.373106"
      ]
     },
     "execution_count": 25,
     "metadata": {},
     "output_type": "execute_result"
    }
   ],
   "source": [
    "df_rouge = pd.DataFrame([list(best_rouge_calc_mean_best.mean()), list(best_rouge_1000_mean.mean()), list(best_rouge_muse_mean.mean())], \n",
    "                        index=['calc', 'top-1000', 'muse'], columns=names)\n",
    "df_rouge.transpose()"
   ]
  },
  {
   "cell_type": "code",
   "execution_count": null,
   "id": "6ec4d13e",
   "metadata": {},
   "outputs": [],
   "source": []
  }
 ],
 "metadata": {
  "kernelspec": {
   "display_name": "Python 3 (ipykernel)",
   "language": "python",
   "name": "python3"
  },
  "language_info": {
   "codemirror_mode": {
    "name": "ipython",
    "version": 3
   },
   "file_extension": ".py",
   "mimetype": "text/x-python",
   "name": "python",
   "nbconvert_exporter": "python",
   "pygments_lexer": "ipython3",
   "version": "3.9.7"
  }
 },
 "nbformat": 4,
 "nbformat_minor": 5
}
