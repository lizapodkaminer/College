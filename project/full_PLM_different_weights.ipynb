{
 "cells": [
  {
   "cell_type": "code",
   "execution_count": 2,
   "id": "f52418d9",
   "metadata": {
    "scrolled": false
   },
   "outputs": [],
   "source": [
    "import re\n",
    "import nltk\n",
    "import numpy as np\n",
    "import matplotlib.pyplot as plt\n",
    "import scipy\n",
    "import scipy.sparse as sp\n",
    "import pandas as pd\n",
    "import spacy\n",
    "import os\n",
    "\n",
    "from nltk.tokenize import word_tokenize\n",
    "from tqdm.notebook import tqdm\n",
    "from os import listdir\n",
    "from os.path import isfile, join\n",
    "from rouge_score import rouge_scorer\n",
    "from rouge import Rouge \n",
    "\n",
    "scorer = rouge_scorer.RougeScorer(['rouge1', 'rouge2', 'rougeL'], use_stemmer=True)\n",
    "\n",
    "rouge = Rouge()\n",
    "nlp = spacy.load(\"en_core_web_sm\")"
   ]
  },
  {
   "cell_type": "markdown",
   "id": "4f1aa66c",
   "metadata": {},
   "source": [
    "Import files"
   ]
  },
  {
   "cell_type": "code",
   "execution_count": 3,
   "id": "56323aee",
   "metadata": {},
   "outputs": [],
   "source": [
    "val_preproc_dir = r\"C:\\Users\\RedmiBook\\Documents\\SCE\\proj\\datasets\\2021val_annual_reports_prepr-20220901T133401Z-001\\2021val_annual_reports_prepr\"\n",
    "name_of_files = [f for f in listdir(val_preproc_dir) \n",
    "             if isfile(join(val_preproc_dir, f))]\n",
    "list_of_files = []\n",
    "for file_name in name_of_files:\n",
    "    list_of_files.append(open(val_preproc_dir + \"\\\\\" + file_name, \"r\").read())"
   ]
  },
  {
   "cell_type": "markdown",
   "id": "6f4d3a8f",
   "metadata": {},
   "source": [
    "Preprocess data"
   ]
  },
  {
   "cell_type": "code",
   "execution_count": 4,
   "id": "924abd08",
   "metadata": {},
   "outputs": [],
   "source": [
    "def delete_nums(txt_splited):\n",
    "    res_finish = []\n",
    "    for text in tqdm(txt_splited):\n",
    "        res_txt = []\n",
    "        for paragraph in text:\n",
    "            res_par = ''\n",
    "            for i in re.split('\\.| ',paragraph):\n",
    "                if i.isalpha():\n",
    "                    res_par += i.lower().strip(\",.\\\"'!?;:\") + ' '\n",
    "            res_txt.append(res_par)\n",
    "        res_finish.append(res_txt)\n",
    "    return res_finish"
   ]
  },
  {
   "cell_type": "code",
   "execution_count": 5,
   "id": "6b06c581",
   "metadata": {
    "scrolled": false
   },
   "outputs": [
    {
     "data": {
      "application/vnd.jupyter.widget-view+json": {
       "model_id": "e1a82454efa4411687e1886c8c381192",
       "version_major": 2,
       "version_minor": 0
      },
      "text/plain": [
       "  0%|          | 0/363 [00:00<?, ?it/s]"
      ]
     },
     "metadata": {},
     "output_type": "display_data"
    }
   ],
   "source": [
    "txt_splited = [file_txt.split('\\n') for file_txt in list_of_files]\n",
    "txt_str_div_par = delete_nums(txt_splited)"
   ]
  },
  {
   "cell_type": "code",
   "execution_count": 6,
   "id": "bcc2514c",
   "metadata": {},
   "outputs": [],
   "source": [
    "def make_vocab(txt_str_div_par):\n",
    "    txt_str = txt_str_div_par.copy()\n",
    "    for i, txt in enumerate(txt_str_div_par):\n",
    "        txt_str[i] = ''.join(txt)\n",
    "\n",
    "    vocab_list = []\n",
    "    for i, txt in enumerate(txt_str):\n",
    "        vocab = list(re.split(' \\n| ', txt))\n",
    "\n",
    "        if '' in set(vocab):\n",
    "            vocab.remove(\"\")\n",
    "        vocab_list.append(list(set(vocab)))\n",
    "    return vocab_list, txt_str"
   ]
  },
  {
   "cell_type": "code",
   "execution_count": 7,
   "id": "e8429d7f",
   "metadata": {},
   "outputs": [],
   "source": [
    "def list_of_words_max_len(txt_str):\n",
    "    list_of_words = [txt.split(' ') for txt in txt_str]\n",
    "    for i in range(len(list_of_words)):\n",
    "        list_of_words[i] = [w for w in list_of_words[i] if w]\n",
    "\n",
    "    len_words = [len(v) for v in list_of_words]\n",
    "    max_len_words = max(len_words)\n",
    "    return list_of_words, len_words, max_len_words"
   ]
  },
  {
   "cell_type": "markdown",
   "id": "71cfa5cc",
   "metadata": {},
   "source": [
    "make functions for calculating results in sparse matrix for time and memory optimization"
   ]
  },
  {
   "cell_type": "markdown",
   "id": "55afe99b",
   "metadata": {},
   "source": [
    "download calculated matix and sum scores of the words per paragraph"
   ]
  },
  {
   "cell_type": "code",
   "execution_count": 13,
   "id": "59b6ff26",
   "metadata": {},
   "outputs": [],
   "source": [
    "def calculate_sum_of_art(txt_str_div_art, sum_arr_word, v_to_i, dict_weight, weights=[1, 2]):\n",
    "    article_weight, len_per_art = [], []\n",
    "    heavy_words = []\n",
    "    for article in txt_str_div_art:\n",
    "        split = [j for j in article.split(' ') if j]\n",
    "        len_art = len(split)\n",
    "        if len_art != 0:\n",
    "            par_split = 0\n",
    "            word_heavy = 0\n",
    "            for word in split:\n",
    "                w = weights[1] if word in dict_weight else weights[0]\n",
    "                word_heavy += w // max(weights)\n",
    "                par_split += sum_arr_word[v_to_i[word]] * w\n",
    "            heavy_words.append(word_heavy / len_art)\n",
    "            article_weight.append(float(par_split) / len_art)\n",
    "            len_per_art.append(len_art)\n",
    "        else:\n",
    "            article_weight.append(0)\n",
    "            len_per_art.append(0)\n",
    "            heavy_words.append(0)\n",
    "            \n",
    "    return pd.DataFrame(list(zip(article_weight, len_per_art, heavy_words)), columns=['sum', 'len', 'wght'])"
   ]
  },
  {
   "cell_type": "code",
   "execution_count": null,
   "id": "fae91a7a",
   "metadata": {},
   "outputs": [],
   "source": [
    "calculate_sum_of_art(txt_str_div_art, sum_arr_word, v_to_i, [], weights=[1, 1])"
   ]
  },
  {
   "cell_type": "code",
   "execution_count": 9,
   "id": "ae47e86e",
   "metadata": {},
   "outputs": [],
   "source": [
    "def top_art(res):\n",
    "    sorted_res = res.sort_values(by=['sum'], ascending=False)\n",
    "    sorted_res['index'] = sorted_res.index\n",
    "\n",
    "    i, len_txt = 0, 0\n",
    "    num_art = []\n",
    "    while i < len(sorted_res) and len_txt < 1000:\n",
    "        len_txt += sorted_res.iloc(0)[i]['len']\n",
    "        num_art.append(int(sorted_res.iloc(0)[i]['index'])) \n",
    "        i += 1\n",
    "    num_art.sort()\n",
    "    return num_art, int(len_txt)"
   ]
  },
  {
   "cell_type": "code",
   "execution_count": 8,
   "id": "067528b3",
   "metadata": {},
   "outputs": [],
   "source": [
    "def download_npz(name_of_files, vocab_list, txt_str_div_par, dir_to_upload, dict_weight, weight):\n",
    "    art_sum = []\n",
    "    for i_t, text_name in tqdm(enumerate(name_of_files), total=len(name_of_files)):\n",
    "\n",
    "        #calculate best articles in txt based on matrix\n",
    "        sum_arr_word = sp.load_npz(dir_to_upload + text_name[:-4] + \".npz\").sum(axis=1)\n",
    "        v_to_i = {v:i for i, v in enumerate(vocab_list[i_t])}\n",
    "        art_sum.append(calculate_sum_of_art(txt_str_div_par[i_t], sum_arr_word, v_to_i, dict_weight, weight))\n",
    "    return art_sum"
   ]
  },
  {
   "cell_type": "code",
   "execution_count": 145,
   "id": "584d9352",
   "metadata": {},
   "outputs": [],
   "source": [
    "def read_files(val_dir):\n",
    "    name_of_files = [f for f in listdir(val_dir) \n",
    "                 if isfile(join(val_dir, f))]\n",
    "    list_of_files = []\n",
    "    for file_name in name_of_files:        \n",
    "        list_of_files.append(open(val_dir + \"\\\\\" + file_name, \"r\", encoding='utf-8').read())\n",
    "    return name_of_files, list_of_files"
   ]
  },
  {
   "cell_type": "code",
   "execution_count": 10,
   "id": "4bf7e016",
   "metadata": {},
   "outputs": [],
   "source": [
    "vocab_list, txt_str = make_vocab(txt_str_div_par)"
   ]
  },
  {
   "cell_type": "code",
   "execution_count": 11,
   "id": "26b4eeec",
   "metadata": {},
   "outputs": [],
   "source": [
    "list_of_words, len_words, max_len_words = list_of_words_max_len(txt_str)"
   ]
  },
  {
   "cell_type": "code",
   "execution_count": 15,
   "id": "8f13c00b",
   "metadata": {},
   "outputs": [],
   "source": [
    "dict_weight = []\n",
    "for line in open(r'C:\\Users\\RedmiBook\\Documents\\SCE\\proj\\dict_ent.txt', 'r'):\n",
    "    dict_weight.append(line)\n",
    "dict_weight = [s[:-1].lower() for s in dict_weight if s[:-1].isalpha()]\n",
    "dict_weight = [w for w in dict_weight if len(w) > 2]\n",
    "dict_weight = set(dict_weight)"
   ]
  },
  {
   "cell_type": "code",
   "execution_count": 16,
   "id": "7613cd78",
   "metadata": {
    "scrolled": true
   },
   "outputs": [
    {
     "data": {
      "application/vnd.jupyter.widget-view+json": {
       "model_id": "526a94e420cf436b85d9545fabd013a1",
       "version_major": 2,
       "version_minor": 0
      },
      "text/plain": [
       "  0%|          | 0/363 [00:00<?, ?it/s]"
      ]
     },
     "metadata": {},
     "output_type": "display_data"
    }
   ],
   "source": [
    "art_sum = download_npz(name_of_files, vocab_list, txt_str_div_par, dir_to_upload=r\"C:\\Users\\RedmiBook\\Documents\\SCE\\proj\\datasets\\calculated\\full PLM windows\\PLM matrix\\\\\", dict_weight=dict_weight, weight=[1, 2])"
   ]
  },
  {
   "cell_type": "code",
   "execution_count": 18,
   "id": "0a7f8a89",
   "metadata": {
    "scrolled": true
   },
   "outputs": [],
   "source": [
    "def download_npz_word(name_of_files, dir_to_upload):\n",
    "    sum_arr_word, v_to_i = [], []\n",
    "    for i_t, text_name in tqdm(enumerate(name_of_files), total=len(name_of_files)):\n",
    "        sum_arr_word.append(sp.load_npz(dir_to_upload + text_name[:-4] + \".npz\").sum(axis=1))\n",
    "        v_to_i.append({v:i for i, v in enumerate(vocab_list[i_t])})\n",
    "#         art_sum.append(calculate_sum_of_art(txt_str_div_par[i_t], sum_arr_word, v_to_i, [], weight))\n",
    "    return sum_arr_word, v_to_i"
   ]
  },
  {
   "cell_type": "code",
   "execution_count": 19,
   "id": "0b986c09",
   "metadata": {},
   "outputs": [
    {
     "data": {
      "application/vnd.jupyter.widget-view+json": {
       "model_id": "d27d5ea473c444fe89b5b2bfdcf792a5",
       "version_major": 2,
       "version_minor": 0
      },
      "text/plain": [
       "  0%|          | 0/363 [00:00<?, ?it/s]"
      ]
     },
     "metadata": {},
     "output_type": "display_data"
    }
   ],
   "source": [
    "word_plm, v_to_i = download_npz_word(name_of_files, dir_to_upload=r\"C:\\Users\\RedmiBook\\Documents\\SCE\\proj\\datasets\\calculated\\full PLM windows\\PLM matrix\\\\\")"
   ]
  },
  {
   "cell_type": "code",
   "execution_count": 20,
   "id": "3706935d",
   "metadata": {},
   "outputs": [],
   "source": [
    "def plm_list_by_words(txt_str, v_to_i, word_plm):\n",
    "    plm_list = []\n",
    "    for i_t, text in tqdm(enumerate(txt_str), total=len(txt_str)):\n",
    "        new_m = []\n",
    "        for word in text.split():\n",
    "            new_m.append(word_plm[i_t][v_to_i[i_t][word]][0, 0])\n",
    "        plm_list.append(new_m)\n",
    "    return plm_list"
   ]
  },
  {
   "cell_type": "code",
   "execution_count": 21,
   "id": "e63d2ec9",
   "metadata": {
    "scrolled": false
   },
   "outputs": [
    {
     "data": {
      "application/vnd.jupyter.widget-view+json": {
       "model_id": "51d6d94c6799415f87922eabd404ed39",
       "version_major": 2,
       "version_minor": 0
      },
      "text/plain": [
       "  0%|          | 0/363 [00:00<?, ?it/s]"
      ]
     },
     "metadata": {},
     "output_type": "display_data"
    }
   ],
   "source": [
    "plm_list = plm_list_by_words(txt_str, v_to_i, word_plm)"
   ]
  },
  {
   "cell_type": "code",
   "execution_count": 22,
   "id": "483d29e3",
   "metadata": {},
   "outputs": [],
   "source": [
    "gold_dir = r\"C:\\Users\\RedmiBook\\Documents\\SCE\\proj\\datasets\\fns2020_dataset_clean\\validation\\gold_summaries\"\n",
    "name_of_files_gold = [f for f in listdir(gold_dir) \n",
    "             if isfile(join(gold_dir, f))]\n",
    "list_of_files_gold = []\n",
    "for file_name in name_of_files_gold:\n",
    "    list_of_files_gold.append(open(gold_dir + \"\\\\\" + file_name, \"r\", encoding='utf-8').read())"
   ]
  },
  {
   "cell_type": "code",
   "execution_count": 15,
   "id": "5691c905",
   "metadata": {},
   "outputs": [],
   "source": [
    "def preproc(txt_splited):\n",
    "    res_finish, res_glue = [], []\n",
    "    for text in tqdm(txt_splited):\n",
    "        res_txt = []\n",
    "        for paragraph in text:\n",
    "            res_par = ''\n",
    "            for i in re.split('\\.| ',paragraph):\n",
    "                if i.isalpha():\n",
    "                    res_par += i.lower() + ' '\n",
    "            res_txt.append(res_par)\n",
    "        res_glue.append(''.join(res_txt))\n",
    "        res_finish.append(res_txt)\n",
    "    return res_finish, res_glue"
   ]
  },
  {
   "cell_type": "code",
   "execution_count": 16,
   "id": "16c6c344",
   "metadata": {},
   "outputs": [
    {
     "data": {
      "application/vnd.jupyter.widget-view+json": {
       "model_id": "ffeb0d603e6b445c9708e683ed7e5484",
       "version_major": 2,
       "version_minor": 0
      },
      "text/plain": [
       "  0%|          | 0/1250 [00:00<?, ?it/s]"
      ]
     },
     "metadata": {},
     "output_type": "display_data"
    }
   ],
   "source": [
    "txt_splited_gold = [file_txt.split('\\n') for file_txt in list_of_files_gold]\n",
    "txt_str_div_par_gold, txt_str_gold = preproc(txt_splited_gold)"
   ]
  },
  {
   "cell_type": "code",
   "execution_count": 135,
   "id": "9eebd5e1",
   "metadata": {},
   "outputs": [],
   "source": [
    "from collections import defaultdict"
   ]
  },
  {
   "cell_type": "code",
   "execution_count": 18,
   "id": "ccaf9f41",
   "metadata": {},
   "outputs": [],
   "source": [
    "val_gold = defaultdict(list)\n",
    "for i, v in enumerate(name_of_files_gold):\n",
    "    val_gold[v[:-6]].append(i)\n",
    "# val_gold"
   ]
  },
  {
   "cell_type": "code",
   "execution_count": 146,
   "id": "cc93ea48",
   "metadata": {},
   "outputs": [],
   "source": [
    "def calc_rouge(txt, txt_gold):\n",
    "    lst_i = scorer.score(txt, txt_gold)\n",
    "                \n",
    "    res_arr = np.array([\n",
    "                      lst_i['rouge1'][0],\n",
    "                      lst_i['rouge1'][1],\n",
    "                      lst_i['rouge1'][2],\n",
    "                      lst_i['rouge2'][0],\n",
    "                      lst_i['rouge2'][1],            \n",
    "                      lst_i['rouge2'][2],\n",
    "                      lst_i['rougeL'][0],\n",
    "                      lst_i['rougeL'][1],            \n",
    "                      lst_i['rougeL'][2]])\n",
    "    return res_arr"
   ]
  },
  {
   "cell_type": "code",
   "execution_count": 24,
   "id": "6de979a7",
   "metadata": {},
   "outputs": [],
   "source": [
    "weight_list = []\n",
    "inverse_list = []\n",
    "for i_t, txt in enumerate(txt_str):\n",
    "    txt_split = txt.split()\n",
    "    weight_matrix = np.zeros(len(txt_split))\n",
    "    inverse_matrix = np.ones(len(txt_split))\n",
    "    for i_w, word in enumerate(txt_split):\n",
    "        if word in dict_weight:\n",
    "            weight_matrix[i_w] = 1\n",
    "    weight_list.append(weight_matrix)\n",
    "    inverse_list.append(inverse_matrix - weight_matrix)"
   ]
  },
  {
   "cell_type": "code",
   "execution_count": 25,
   "id": "089eaaaa",
   "metadata": {},
   "outputs": [],
   "source": [
    "def weight_calc(weight, plm_list=plm_list, txt_str=txt_str, weight_list=weight_list, inverse_list=inverse_list):\n",
    "    plm_weighted = []\n",
    "    for i, txt in enumerate(txt_str), total=len(txt_str):\n",
    "        txt_split = txt.split()\n",
    "        plm_weighted.append(plm_list[i] * inverse_list[i] + plm_list[i] * weight_list[i] * weight)\n",
    "    return plm_weighted"
   ]
  },
  {
   "cell_type": "code",
   "execution_count": 64,
   "id": "d96733b7",
   "metadata": {},
   "outputs": [],
   "source": [
    "def start_art(txt_str_div_par):\n",
    "    pointer = 0\n",
    "    list_art_start = []\n",
    "    for i in range(len(txt_str_div_par)):\n",
    "        list_art_start.append(pointer)\n",
    "        pointer += len(txt_str_div_par[i].split())\n",
    "    return list_art_start"
   ]
  },
  {
   "cell_type": "code",
   "execution_count": 145,
   "id": "0ced7739",
   "metadata": {},
   "outputs": [],
   "source": [
    "to_gold = defaultdict(list)\n",
    "for i, name in enumerate(name_of_files_gold):\n",
    "    to_gold[name[:-6]].append(i)"
   ]
  },
  {
   "cell_type": "code",
   "execution_count": 153,
   "id": "6cc2b8b1",
   "metadata": {
    "scrolled": true
   },
   "outputs": [],
   "source": [
    "def calc_txt_depend_weight(weight, txt_str_div_par_elem, name_file, to_gold=to_gold, list_of_files_gold=list_of_files_gold):\n",
    "    div_art = start_art(txt_str_div_par_elem)\n",
    "    art_sum_res_tmp = []\n",
    "    \n",
    "    for i in range(len(div_art) - 1): \n",
    "        res = sum(weight[0][div_art[i]:div_art[i + 1]]) / (div_art[i + 1] - div_art[i]) if (div_art[i + 1] - div_art[i]) > 0 else 0\n",
    "        art_sum_res_tmp.append(res)\n",
    "    res = sum(weight[0][div_art[-1]:]) / (len(div_art) - div_art[-1]) if (len(div_art) - div_art[-1]) > 0 else 0\n",
    "    art_sum_res_tmp.append(res)\n",
    "\n",
    "    tmp_df = pd.DataFrame([art_sum_res_tmp, range(len(art_sum_res_tmp))]).T\n",
    "    tmp_df = tmp_df.sort_values(0, ascending=False)\n",
    "\n",
    "    len_sum = 0\n",
    "    id_list = []\n",
    "    i = 0\n",
    "    while len_sum < 1000:\n",
    "        id_list.append(int(tmp_df.iloc[i][1]))\n",
    "        len_sum += len(txt_str_div_par_elem[int(tmp_df[1][i])].split())\n",
    "        i += 1\n",
    "    res_txt = ''\n",
    "    for i in sorted(id_list):\n",
    "        res_txt += txt_str_div_par_elem[i] + '\\n'\n",
    "    rouge_res = []\n",
    "    for elem in to_gold[name_file[:-4]]:\n",
    "        rouge_res.append(calc_rouge(res_txt, list_of_files_gold[elem]))\n",
    "    return res_txt, np.mean(rouge_res, axis=0)"
   ]
  },
  {
   "cell_type": "code",
   "execution_count": 170,
   "id": "13162b1a",
   "metadata": {},
   "outputs": [],
   "source": [
    "weight_range = [i/4 for i in range(1, 13)]"
   ]
  },
  {
   "cell_type": "code",
   "execution_count": 172,
   "id": "f421cead",
   "metadata": {},
   "outputs": [
    {
     "data": {
      "application/vnd.jupyter.widget-view+json": {
       "model_id": "ae4391641ced4341a3b491cad514bb1f",
       "version_major": 2,
       "version_minor": 0
      },
      "text/plain": [
       "  0%|          | 0/363 [00:00<?, ?it/s]"
      ]
     },
     "metadata": {},
     "output_type": "display_data"
    },
    {
     "data": {
      "application/vnd.jupyter.widget-view+json": {
       "model_id": "35ffd0387bf14afa8b2c6dfcd4d3766c",
       "version_major": 2,
       "version_minor": 0
      },
      "text/plain": [
       "  0%|          | 0/363 [00:00<?, ?it/s]"
      ]
     },
     "metadata": {},
     "output_type": "display_data"
    },
    {
     "data": {
      "application/vnd.jupyter.widget-view+json": {
       "model_id": "8f15ace666d541b2b7d912dff9d66e7b",
       "version_major": 2,
       "version_minor": 0
      },
      "text/plain": [
       "  0%|          | 0/363 [00:00<?, ?it/s]"
      ]
     },
     "metadata": {},
     "output_type": "display_data"
    },
    {
     "data": {
      "application/vnd.jupyter.widget-view+json": {
       "model_id": "2effc8efc80a46a3932075e489118184",
       "version_major": 2,
       "version_minor": 0
      },
      "text/plain": [
       "  0%|          | 0/363 [00:00<?, ?it/s]"
      ]
     },
     "metadata": {},
     "output_type": "display_data"
    },
    {
     "data": {
      "application/vnd.jupyter.widget-view+json": {
       "model_id": "ef7419112fed44dfbcd3ff49ad22465a",
       "version_major": 2,
       "version_minor": 0
      },
      "text/plain": [
       "  0%|          | 0/363 [00:00<?, ?it/s]"
      ]
     },
     "metadata": {},
     "output_type": "display_data"
    },
    {
     "data": {
      "application/vnd.jupyter.widget-view+json": {
       "model_id": "429ed284e3dc4669b2283bbcb191a65e",
       "version_major": 2,
       "version_minor": 0
      },
      "text/plain": [
       "  0%|          | 0/363 [00:00<?, ?it/s]"
      ]
     },
     "metadata": {},
     "output_type": "display_data"
    },
    {
     "data": {
      "application/vnd.jupyter.widget-view+json": {
       "model_id": "755afb55413547edbdde2f23974e0d18",
       "version_major": 2,
       "version_minor": 0
      },
      "text/plain": [
       "  0%|          | 0/363 [00:00<?, ?it/s]"
      ]
     },
     "metadata": {},
     "output_type": "display_data"
    },
    {
     "data": {
      "application/vnd.jupyter.widget-view+json": {
       "model_id": "56ed1d95eafe468ebbb089ff8861782c",
       "version_major": 2,
       "version_minor": 0
      },
      "text/plain": [
       "  0%|          | 0/363 [00:00<?, ?it/s]"
      ]
     },
     "metadata": {},
     "output_type": "display_data"
    },
    {
     "data": {
      "application/vnd.jupyter.widget-view+json": {
       "model_id": "8b1a566968ac47deb81a76f9c3e12032",
       "version_major": 2,
       "version_minor": 0
      },
      "text/plain": [
       "  0%|          | 0/363 [00:00<?, ?it/s]"
      ]
     },
     "metadata": {},
     "output_type": "display_data"
    },
    {
     "data": {
      "application/vnd.jupyter.widget-view+json": {
       "model_id": "2d17a7b54eeb4f83b25d17bd4e4e01d9",
       "version_major": 2,
       "version_minor": 0
      },
      "text/plain": [
       "  0%|          | 0/363 [00:00<?, ?it/s]"
      ]
     },
     "metadata": {},
     "output_type": "display_data"
    },
    {
     "data": {
      "application/vnd.jupyter.widget-view+json": {
       "model_id": "582d8e80b1a44d9dad9700cc224dd02d",
       "version_major": 2,
       "version_minor": 0
      },
      "text/plain": [
       "  0%|          | 0/363 [00:00<?, ?it/s]"
      ]
     },
     "metadata": {},
     "output_type": "display_data"
    },
    {
     "data": {
      "application/vnd.jupyter.widget-view+json": {
       "model_id": "12d819ced4124d3d83bbb44b69ae4c2a",
       "version_major": 2,
       "version_minor": 0
      },
      "text/plain": [
       "  0%|          | 0/363 [00:00<?, ?it/s]"
      ]
     },
     "metadata": {},
     "output_type": "display_data"
    }
   ],
   "source": [
    "weight_list = [weight_calc(w) for w in weight_range]"
   ]
  },
  {
   "cell_type": "code",
   "execution_count": 176,
   "id": "03e1af29",
   "metadata": {},
   "outputs": [
    {
     "data": {
      "application/vnd.jupyter.widget-view+json": {
       "model_id": "47001498c61f47f18131c46cdc0b64b2",
       "version_major": 2,
       "version_minor": 0
      },
      "text/plain": [
       "  0%|          | 0/12 [00:00<?, ?it/s]"
      ]
     },
     "metadata": {},
     "output_type": "display_data"
    },
    {
     "data": {
      "application/vnd.jupyter.widget-view+json": {
       "model_id": "fe082d9d23ec42b3a71184f9911c5a27",
       "version_major": 2,
       "version_minor": 0
      },
      "text/plain": [
       "  0%|          | 0/363 [00:00<?, ?it/s]"
      ]
     },
     "metadata": {},
     "output_type": "display_data"
    },
    {
     "data": {
      "application/vnd.jupyter.widget-view+json": {
       "model_id": "a9e5ea3f52b346b8b686f16d4e5c6bd2",
       "version_major": 2,
       "version_minor": 0
      },
      "text/plain": [
       "  0%|          | 0/363 [00:00<?, ?it/s]"
      ]
     },
     "metadata": {},
     "output_type": "display_data"
    },
    {
     "data": {
      "application/vnd.jupyter.widget-view+json": {
       "model_id": "e1b93dd6776d4c918bfbb0f5ac8aab55",
       "version_major": 2,
       "version_minor": 0
      },
      "text/plain": [
       "  0%|          | 0/363 [00:00<?, ?it/s]"
      ]
     },
     "metadata": {},
     "output_type": "display_data"
    },
    {
     "data": {
      "application/vnd.jupyter.widget-view+json": {
       "model_id": "3ac2d01feac64492b59de89ed7582c39",
       "version_major": 2,
       "version_minor": 0
      },
      "text/plain": [
       "  0%|          | 0/363 [00:00<?, ?it/s]"
      ]
     },
     "metadata": {},
     "output_type": "display_data"
    },
    {
     "data": {
      "application/vnd.jupyter.widget-view+json": {
       "model_id": "e0a0cdefc7a94876a8f631bae136bc1e",
       "version_major": 2,
       "version_minor": 0
      },
      "text/plain": [
       "  0%|          | 0/363 [00:00<?, ?it/s]"
      ]
     },
     "metadata": {},
     "output_type": "display_data"
    },
    {
     "data": {
      "application/vnd.jupyter.widget-view+json": {
       "model_id": "c616b13ff01e41d0a481daf424f6dcc3",
       "version_major": 2,
       "version_minor": 0
      },
      "text/plain": [
       "  0%|          | 0/363 [00:00<?, ?it/s]"
      ]
     },
     "metadata": {},
     "output_type": "display_data"
    },
    {
     "data": {
      "application/vnd.jupyter.widget-view+json": {
       "model_id": "2e81fe624107492ca8a421007420c964",
       "version_major": 2,
       "version_minor": 0
      },
      "text/plain": [
       "  0%|          | 0/363 [00:00<?, ?it/s]"
      ]
     },
     "metadata": {},
     "output_type": "display_data"
    },
    {
     "data": {
      "application/vnd.jupyter.widget-view+json": {
       "model_id": "7583cc7ba01344559c35b436b5843868",
       "version_major": 2,
       "version_minor": 0
      },
      "text/plain": [
       "  0%|          | 0/363 [00:00<?, ?it/s]"
      ]
     },
     "metadata": {},
     "output_type": "display_data"
    },
    {
     "data": {
      "application/vnd.jupyter.widget-view+json": {
       "model_id": "3f7a32ef3d43434b922ff797da8364a6",
       "version_major": 2,
       "version_minor": 0
      },
      "text/plain": [
       "  0%|          | 0/363 [00:00<?, ?it/s]"
      ]
     },
     "metadata": {},
     "output_type": "display_data"
    },
    {
     "data": {
      "application/vnd.jupyter.widget-view+json": {
       "model_id": "170ec941d2f044099e33f19f49c653cb",
       "version_major": 2,
       "version_minor": 0
      },
      "text/plain": [
       "  0%|          | 0/363 [00:00<?, ?it/s]"
      ]
     },
     "metadata": {},
     "output_type": "display_data"
    },
    {
     "data": {
      "application/vnd.jupyter.widget-view+json": {
       "model_id": "1f803da1e9554a60bcbdd5a990e7c679",
       "version_major": 2,
       "version_minor": 0
      },
      "text/plain": [
       "  0%|          | 0/363 [00:00<?, ?it/s]"
      ]
     },
     "metadata": {},
     "output_type": "display_data"
    },
    {
     "data": {
      "application/vnd.jupyter.widget-view+json": {
       "model_id": "5769c7c4dda2422eb8ae663467fbfc8b",
       "version_major": 2,
       "version_minor": 0
      },
      "text/plain": [
       "  0%|          | 0/363 [00:00<?, ?it/s]"
      ]
     },
     "metadata": {},
     "output_type": "display_data"
    }
   ],
   "source": [
    "weight_res_rouge = []\n",
    "weight_res_txt = []\n",
    "for j, weight_elem in tqdm(enumerate(weight_list), total=len(weight_list)):\n",
    "    txt_weighted, rouge_weighted = [], []\n",
    "    print('Calculation with ' + str(weight_range[j]))\n",
    "    for i in tqdm(range(len(txt_str_div_par))):    \n",
    "        txt_tmp, rouge_tmp = calc_txt_depend_weight(weight_elem, txt_str_div_par[i], name_of_files[i])\n",
    "        txt_weighted.append(txt_tmp)\n",
    "        rouge_weighted.append(rouge_tmp)\n",
    "    weight_res_txt.append(txt_weighted)\n",
    "    weight_res_rouge.append(rouge_weighted)\n",
    "    np.save(r'C:\\Users\\RedmiBook\\Documents\\SCE\\proj\\datasets\\calculated\\weight_' + str(j), np.mean(rouge_weighted, axis=0))"
   ]
  },
  {
   "cell_type": "code",
   "execution_count": 191,
   "id": "44280aca",
   "metadata": {},
   "outputs": [],
   "source": [
    "for weight in range(len(weight_list)):\n",
    "    os.makedirs(r'C:\\Users\\RedmiBook\\Documents\\SCE\\proj\\datasets\\calculated\\plm_weights\\\\'+ str(weight))\n",
    "    for i, file in enumerate(name_of_files):\n",
    "        np.save(r'C:\\Users\\RedmiBook\\Documents\\SCE\\proj\\datasets\\calculated\\plm_weights\\\\'+ str(weight) + '\\\\' + file[:-4], weight_res_rouge[weight][i])"
   ]
  },
  {
   "cell_type": "code",
   "execution_count": 192,
   "id": "2543298e",
   "metadata": {},
   "outputs": [],
   "source": [
    "for weight in range(len(weight_list)):\n",
    "    for i, file in enumerate(name_of_files):\n",
    "        with open(r'C:\\Users\\RedmiBook\\Documents\\SCE\\proj\\datasets\\calculated\\plm_weights\\\\'+ str(weight) + '\\\\' + file[:-4] + '.txt', \"w\") as text_file:\n",
    "            text_file.write(weight_res_txt[weight][i])"
   ]
  },
  {
   "cell_type": "code",
   "execution_count": 197,
   "id": "b3651054",
   "metadata": {},
   "outputs": [],
   "source": [
    "res_rouge_w = []\n",
    "for j in range(len(weight_list)):\n",
    "    res_rouge_w.append(np.load(r'C:\\Users\\RedmiBook\\Documents\\SCE\\proj\\datasets\\calculated\\weight_' + str(j) + '.npy'))"
   ]
  },
  {
   "cell_type": "code",
   "execution_count": 200,
   "id": "59637a96",
   "metadata": {},
   "outputs": [
    {
     "data": {
      "text/plain": [
       "0.3779983178125804"
      ]
     },
     "execution_count": 200,
     "metadata": {},
     "output_type": "execute_result"
    }
   ],
   "source": [
    "res_rouge_w[10][0]"
   ]
  },
  {
   "cell_type": "code",
   "execution_count": 204,
   "id": "74a983b1",
   "metadata": {},
   "outputs": [
    {
     "data": {
      "text/plain": [
       "{'rouge1': Score(precision=0.0, recall=0.0, fmeasure=0.0),\n",
       " 'rouge2': Score(precision=0.0, recall=0.0, fmeasure=0.0),\n",
       " 'rougeL': Score(precision=0.0, recall=0.0, fmeasure=0.0)}"
      ]
     },
     "execution_count": 204,
     "metadata": {},
     "output_type": "execute_result"
    }
   ],
   "source": [
    "scorer.score('cat', 'dog')"
   ]
  },
  {
   "cell_type": "code",
   "execution_count": 218,
   "id": "4773db5d",
   "metadata": {},
   "outputs": [
    {
     "data": {
      "text/plain": [
       "Text(0.5, 1.0, 'ROUGE L, f1 measure')"
      ]
     },
     "execution_count": 218,
     "metadata": {},
     "output_type": "execute_result"
    },
    {
     "data": {
      "image/png": "[encoded data removed]",
      "text/plain": [
       "<Figure size 1440x1080 with 9 Axes>"
      ]
     },
     "metadata": {
      "needs_background": "light"
     },
     "output_type": "display_data"
    }
   ],
   "source": [
    "fig, axs = plt.subplots(3, 3, figsize=(20, 15))\n",
    "\n",
    "axs[0][0].plot([rouge_list[0] for rouge_list in res_rouge_w]);\n",
    "axs[0][0].set_xticks(range(len(weight_range)))\n",
    "axs[0][0].set_xticklabels(weight_range)\n",
    "axs[0][0].set_title('ROUGE 1, precision')\n",
    "axs[0][1].plot([rouge_list[1] for rouge_list in res_rouge_w]);\n",
    "axs[0][1].set_xticks(range(len(weight_range)))\n",
    "axs[0][1].set_xticklabels(weight_range)\n",
    "axs[0][1].set_title('ROUGE 1, recall')\n",
    "axs[0][2].plot([rouge_list[2] for rouge_list in res_rouge_w]);\n",
    "axs[0][2].set_xticks(range(len(weight_range)))\n",
    "axs[0][2].set_xticklabels(weight_range)\n",
    "axs[0][2].set_title('ROUGE 1, f1 measure')\n",
    "\n",
    "axs[1][0].plot([rouge_list[3] for rouge_list in res_rouge_w]);\n",
    "axs[1][0].set_xticks(range(len(weight_range)))\n",
    "axs[1][0].set_xticklabels(weight_range)\n",
    "axs[1][0].set_title('ROUGE 2, precision')\n",
    "axs[1][1].plot([rouge_list[4] for rouge_list in res_rouge_w]);\n",
    "axs[1][1].set_xticks(range(len(weight_range)))\n",
    "axs[1][1].set_xticklabels(weight_range)\n",
    "axs[1][1].set_title('ROUGE 2, recall')\n",
    "axs[1][2].plot([rouge_list[5] for rouge_list in res_rouge_w]);\n",
    "axs[1][2].set_xticks(range(len(weight_range)))\n",
    "axs[1][2].set_xticklabels(weight_range)\n",
    "axs[1][2].set_title('ROUGE 2, f1 measure')\n",
    "\n",
    "axs[2][0].plot([rouge_list[6] for rouge_list in res_rouge_w]);\n",
    "axs[2][0].set_xticks(range(len(weight_range)))\n",
    "axs[2][0].set_xticklabels(weight_range)\n",
    "axs[2][0].set_title('ROUGE L, precision')\n",
    "axs[2][1].plot([rouge_list[7] for rouge_list in res_rouge_w]);\n",
    "axs[2][1].set_xticks(range(len(weight_range)))\n",
    "axs[2][1].set_xticklabels(weight_range)\n",
    "axs[2][1].set_title('ROUGE L, recall')\n",
    "axs[2][2].plot([rouge_list[8] for rouge_list in res_rouge_w]);\n",
    "axs[2][2].set_xticks(range(len(weight_range)))\n",
    "axs[2][2].set_xticklabels(weight_range)\n",
    "axs[2][2].set_title('ROUGE L, f1 measure')\n"
   ]
  },
  {
   "cell_type": "code",
   "execution_count": null,
   "id": "febb973d",
   "metadata": {},
   "outputs": [],
   "source": []
  }
 ],
 "metadata": {
  "kernelspec": {
   "display_name": "Python 3 (ipykernel)",
   "language": "python",
   "name": "python3"
  },
  "language_info": {
   "codemirror_mode": {
    "name": "ipython",
    "version": 3
   },
   "file_extension": ".py",
   "mimetype": "text/x-python",
   "name": "python",
   "nbconvert_exporter": "python",
   "pygments_lexer": "ipython3",
   "version": "3.9.7"
  }
 },
 "nbformat": 4,
 "nbformat_minor": 5
}
